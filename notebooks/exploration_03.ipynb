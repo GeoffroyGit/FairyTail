{
 "cells": [
  {
   "cell_type": "code",
   "execution_count": 1,
   "id": "bff47849",
   "metadata": {},
   "outputs": [
    {
     "name": "stderr",
     "output_type": "stream",
     "text": [
      "2022-06-27 19:57:07.743278: W tensorflow/stream_executor/platform/default/dso_loader.cc:64] Could not load dynamic library 'libcudart.so.11.0'; dlerror: libcudart.so.11.0: cannot open shared object file: No such file or directory\n",
      "2022-06-27 19:57:07.743302: I tensorflow/stream_executor/cuda/cudart_stub.cc:29] Ignore above cudart dlerror if you do not have a GPU set up on your machine.\n"
     ]
    }
   ],
   "source": [
    "import numpy as np\n",
    "import pandas as pd\n",
    "import seaborn as sns\n",
    "from sklearn.model_selection import train_test_split\n",
    "from gensim.models import Word2Vec\n",
    "import gensim.downloader as api\n",
    "from tensorflow.keras import Sequential\n",
    "from tensorflow.keras.layers import Masking, Dense, LSTM, GRU, SimpleRNN\n",
    "from tensorflow.keras.callbacks import EarlyStopping\n",
    "from tensorflow.keras.preprocessing.sequence import pad_sequences"
   ]
  },
  {
   "cell_type": "code",
   "execution_count": 2,
   "id": "44b6138e",
   "metadata": {},
   "outputs": [],
   "source": [
    "# for a start, let's use the imdb reviews dataset\n",
    "from tensorflow.keras.datasets import imdb"
   ]
  },
  {
   "cell_type": "code",
   "execution_count": 3,
   "id": "b342cf63",
   "metadata": {},
   "outputs": [],
   "source": [
    "def load_data(percentage_of_sentences=None):\n",
    "    # Load the data\n",
    "    (sentences_train, y_train), (sentences_test, y_test) = imdb.load_data()\n",
    "    \n",
    "    # Take only a given percentage of the entire data\n",
    "    if percentage_of_sentences is not None:\n",
    "        assert(percentage_of_sentences> 0 and percentage_of_sentences<=100)\n",
    "        \n",
    "        len_train = int(percentage_of_sentences/100*len(sentences_train))\n",
    "        sentences_train = sentences_train[:len_train]\n",
    "        y_train = y_train[:len_train]\n",
    "        \n",
    "        len_test = int(percentage_of_sentences/100*len(sentences_test))\n",
    "        sentences_test = sentences_test[:len_test]\n",
    "        y_test = y_test[:len_test]\n",
    "            \n",
    "    # Load the {interger: word} representation\n",
    "    word_to_id = imdb.get_word_index()\n",
    "    word_to_id = {k:(v+3) for k,v in word_to_id.items()}\n",
    "    for i, w in enumerate(['<PAD>', '<START>', '<UNK>', '<UNUSED>']):\n",
    "        word_to_id[w] = i\n",
    "\n",
    "    id_to_word = {v:k for k, v in word_to_id.items()}\n",
    "\n",
    "    # Convert the list of integers to list of words (str)\n",
    "    X_train = [' '.join([id_to_word[_] for _ in sentence[1:]]) for sentence in sentences_train]\n",
    "    \n",
    "    return X_train\n",
    "\n",
    "\n",
    "### Just run this cell to load the data\n",
    "data = load_data(percentage_of_sentences=10)"
   ]
  },
  {
   "cell_type": "code",
   "execution_count": 4,
   "id": "4d502af0",
   "metadata": {},
   "outputs": [],
   "source": [
    "def get_X_y(sentence, length=20):\n",
    "    '''\n",
    "    returns a tuple containing:\n",
    "    - a sentence (a string)\n",
    "    - the word immediately following that sentence\n",
    "    '''\n",
    "    words = sentence.split()\n",
    "    # return None if the sentence is too short\n",
    "    if len(words) <= length:\n",
    "        return None\n",
    "    # pick a random part of the sentence\n",
    "    first_word_idx = np.random.randint(0, len(words) - length)\n",
    "    # build X (a part of the sentence) and y (the word immediately following X)\n",
    "    X = words[first_word_idx : first_word_idx + length]\n",
    "    y = words[first_word_idx + length]\n",
    "    # return X and y\n",
    "    return X, y"
   ]
  },
  {
   "cell_type": "code",
   "execution_count": 5,
   "id": "107aae0c",
   "metadata": {},
   "outputs": [
    {
     "data": {
      "text/plain": [
       "(['so',\n",
       "  'sad',\n",
       "  'and',\n",
       "  'you',\n",
       "  'know',\n",
       "  'what',\n",
       "  'they',\n",
       "  'say',\n",
       "  'if',\n",
       "  'you',\n",
       "  'cry',\n",
       "  'at',\n",
       "  'a',\n",
       "  'film',\n",
       "  'it',\n",
       "  'must',\n",
       "  'have',\n",
       "  'been',\n",
       "  'good',\n",
       "  'and'],\n",
       " 'this')"
      ]
     },
     "execution_count": 5,
     "metadata": {},
     "output_type": "execute_result"
    }
   ],
   "source": [
    "# check the output of the function\n",
    "get_X_y(data[0])"
   ]
  },
  {
   "cell_type": "code",
   "execution_count": 6,
   "id": "5afae8f7",
   "metadata": {},
   "outputs": [],
   "source": [
    "def create_dataset(sentences, number_of_samples = 1000):\n",
    "    '''\n",
    "    creates a dataset (X and y) made of number_of_samples observations\n",
    "    '''\n",
    "    X, y = [], []\n",
    "    indices = np.random.randint(0, len(sentences), size=number_of_samples)\n",
    "    # call get_X_y number_of_samples times\n",
    "    for idx in indices:\n",
    "        ret = get_X_y(sentences[idx])\n",
    "        if ret is None:\n",
    "            continue\n",
    "        xi, yi = ret\n",
    "        X.append(xi)\n",
    "        y.append(yi)\n",
    "    return X, y"
   ]
  },
  {
   "cell_type": "code",
   "execution_count": 7,
   "id": "a876ea0e",
   "metadata": {},
   "outputs": [],
   "source": [
    "X, y = create_dataset(data)"
   ]
  },
  {
   "cell_type": "code",
   "execution_count": 8,
   "id": "0f3d75e1",
   "metadata": {},
   "outputs": [],
   "source": [
    "# train test split\n",
    "X_train, X_test, y_train, y_test = train_test_split(X, y, test_size=0.3)"
   ]
  },
  {
   "cell_type": "code",
   "execution_count": 9,
   "id": "df130eeb",
   "metadata": {},
   "outputs": [
    {
     "data": {
      "text/plain": [
       "(699, 300, 699, 300)"
      ]
     },
     "execution_count": 9,
     "metadata": {},
     "output_type": "execute_result"
    }
   ],
   "source": [
    "len(X_train), len(X_test), len(y_train), len(y_test)"
   ]
  },
  {
   "cell_type": "code",
   "execution_count": 10,
   "id": "b34eafb3",
   "metadata": {},
   "outputs": [
    {
     "name": "stdout",
     "output_type": "stream",
     "text": [
      "['fasttext-wiki-news-subwords-300', 'conceptnet-numberbatch-17-06-300', 'word2vec-ruscorpora-300', 'word2vec-google-news-300', 'glove-wiki-gigaword-50', 'glove-wiki-gigaword-100', 'glove-wiki-gigaword-200', 'glove-wiki-gigaword-300', 'glove-twitter-25', 'glove-twitter-50', 'glove-twitter-100', 'glove-twitter-200', '__testing_word2vec-matrix-synopsis']\n"
     ]
    }
   ],
   "source": [
    "# let's use a pre-trained word2vec\n",
    "print(list(api.info()['models'].keys()))"
   ]
  },
  {
   "cell_type": "code",
   "execution_count": 11,
   "id": "a8e11d3a",
   "metadata": {},
   "outputs": [],
   "source": [
    "word2vec = api.load(\"glove-wiki-gigaword-50\")"
   ]
  },
  {
   "cell_type": "code",
   "execution_count": 12,
   "id": "e5278091",
   "metadata": {},
   "outputs": [],
   "source": [
    "wv = word2vec"
   ]
  },
  {
   "cell_type": "code",
   "execution_count": 13,
   "id": "30838f59",
   "metadata": {},
   "outputs": [
    {
     "data": {
      "text/plain": [
       "50"
      ]
     },
     "execution_count": 13,
     "metadata": {},
     "output_type": "execute_result"
    }
   ],
   "source": [
    "# check embedding size\n",
    "wv[\"movie\"].size"
   ]
  },
  {
   "cell_type": "code",
   "execution_count": 14,
   "id": "8a6ffdf0",
   "metadata": {},
   "outputs": [
    {
     "data": {
      "text/plain": [
       "[('movies', 0.9322481155395508),\n",
       " ('film', 0.9310100078582764),\n",
       " ('films', 0.8937394618988037),\n",
       " ('comedy', 0.8902585506439209),\n",
       " ('hollywood', 0.8718216419219971),\n",
       " ('drama', 0.8341657519340515),\n",
       " ('sequel', 0.8222616314888),\n",
       " ('animated', 0.8216581344604492),\n",
       " ('remake', 0.812495768070221),\n",
       " ('show', 0.8105834126472473)]"
      ]
     },
     "execution_count": 14,
     "metadata": {},
     "output_type": "execute_result"
    }
   ],
   "source": [
    "wv.most_similar(\"movie\")"
   ]
  },
  {
   "cell_type": "code",
   "execution_count": 15,
   "id": "3b771545",
   "metadata": {},
   "outputs": [
    {
     "data": {
      "text/plain": [
       "[('movie', 1.0),\n",
       " ('movies', 0.9322481155395508),\n",
       " ('film', 0.9310100078582764),\n",
       " ('films', 0.8937394022941589),\n",
       " ('comedy', 0.8902584910392761),\n",
       " ('hollywood', 0.8718216419219971),\n",
       " ('drama', 0.8341657519340515),\n",
       " ('sequel', 0.8222616314888),\n",
       " ('animated', 0.8216580748558044),\n",
       " ('remake', 0.812495768070221)]"
      ]
     },
     "execution_count": 15,
     "metadata": {},
     "output_type": "execute_result"
    }
   ],
   "source": [
    "wv.similar_by_vector(wv[\"movie\"])"
   ]
  },
  {
   "cell_type": "code",
   "execution_count": 16,
   "id": "11ef712b",
   "metadata": {},
   "outputs": [
    {
     "data": {
      "text/plain": [
       "400000"
      ]
     },
     "execution_count": 16,
     "metadata": {},
     "output_type": "execute_result"
    }
   ],
   "source": [
    "vocab_size = len(wv.key_to_index)\n",
    "vocab_size"
   ]
  },
  {
   "cell_type": "code",
   "execution_count": 17,
   "id": "a0a3ddb2",
   "metadata": {},
   "outputs": [],
   "source": [
    "# Function to convert a sentence (list of words) into a matrix representing the words in the embedding space\n",
    "def embed_sentence_with_TF(word2vec, sentence):\n",
    "    embedded_sentence = []\n",
    "    for word in sentence:\n",
    "        if word in word2vec:\n",
    "            embedded_sentence.append(word2vec[word])\n",
    "        \n",
    "    return np.array(embedded_sentence)\n",
    "\n",
    "# Function that converts a list of sentences into a list of matrices\n",
    "def embedding(word2vec, sentences):\n",
    "    embed = []\n",
    "    \n",
    "    for sentence in sentences:\n",
    "        embedded_sentence = embed_sentence_with_TF(word2vec, sentence)\n",
    "        embed.append(embedded_sentence)\n",
    "        \n",
    "    return embed\n",
    "\n",
    "# Embed the training and test sentences\n",
    "X_train_embed = embedding(word2vec, X_train)\n",
    "X_test_embed = embedding(word2vec, X_test)\n",
    "\n",
    "# Pad the training and test embedded sentences\n",
    "X_train_pad = pad_sequences(X_train_embed, dtype='float32', padding='post', maxlen=40)\n",
    "X_test_pad = pad_sequences(X_test_embed, dtype='float32', padding='post', maxlen=40)"
   ]
  },
  {
   "cell_type": "code",
   "execution_count": 18,
   "id": "5c76c614",
   "metadata": {},
   "outputs": [
    {
     "data": {
      "text/plain": [
       "numpy.ndarray"
      ]
     },
     "execution_count": 18,
     "metadata": {},
     "output_type": "execute_result"
    }
   ],
   "source": [
    "# check X_train_pad and W_test_pad\n",
    "type(X_train_pad)"
   ]
  },
  {
   "cell_type": "code",
   "execution_count": 19,
   "id": "9920a978",
   "metadata": {},
   "outputs": [
    {
     "data": {
      "text/plain": [
       "(699, 40, 50)"
      ]
     },
     "execution_count": 19,
     "metadata": {},
     "output_type": "execute_result"
    }
   ],
   "source": [
    "X_train_pad.shape"
   ]
  },
  {
   "cell_type": "code",
   "execution_count": 20,
   "id": "56736f22",
   "metadata": {},
   "outputs": [
    {
     "data": {
      "text/plain": [
       "(300, 40, 50)"
      ]
     },
     "execution_count": 20,
     "metadata": {},
     "output_type": "execute_result"
    }
   ],
   "source": [
    "X_test_pad.shape"
   ]
  },
  {
   "cell_type": "code",
   "execution_count": 21,
   "id": "0d34d82c",
   "metadata": {},
   "outputs": [
    {
     "data": {
      "text/plain": [
       "50"
      ]
     },
     "execution_count": 21,
     "metadata": {},
     "output_type": "execute_result"
    }
   ],
   "source": [
    "wv.vector_size"
   ]
  },
  {
   "cell_type": "code",
   "execution_count": 22,
   "id": "d306e6b7",
   "metadata": {},
   "outputs": [
    {
     "data": {
      "text/plain": [
       "0.9699570815450643"
      ]
     },
     "execution_count": 22,
     "metadata": {},
     "output_type": "execute_result"
    }
   ],
   "source": [
    "# check how many words from y_train are in wv\n",
    "sum([word in wv for word in y_train]) / len(y_train)"
   ]
  },
  {
   "cell_type": "code",
   "execution_count": 23,
   "id": "2ec730fb",
   "metadata": {},
   "outputs": [
    {
     "data": {
      "text/plain": [
       "0.9766666666666667"
      ]
     },
     "execution_count": 23,
     "metadata": {},
     "output_type": "execute_result"
    }
   ],
   "source": [
    "# check how many words from y_test are in wv\n",
    "sum([word in wv for word in y_test]) / len(y_test)"
   ]
  },
  {
   "cell_type": "code",
   "execution_count": 24,
   "id": "753299df",
   "metadata": {},
   "outputs": [
    {
     "data": {
      "text/plain": [
       "((699, 40, 50), (300, 40, 50), 699, 300)"
      ]
     },
     "execution_count": 24,
     "metadata": {},
     "output_type": "execute_result"
    }
   ],
   "source": [
    "X_train_pad.shape, X_test_pad.shape, len(y_train), len(y_test)"
   ]
  },
  {
   "cell_type": "code",
   "execution_count": 25,
   "id": "a10b2b04",
   "metadata": {},
   "outputs": [],
   "source": [
    "# filter X_train_pad (and X_test_pad) to keep only the observations for which y_train (and y_test) is in wv\n",
    "mask_train = [word in wv for word in y_train]\n",
    "X_train_pad = X_train_pad[mask_train, :, :]\n",
    "y_train = [word for word in y_train if word in wv]\n",
    "mask_test = [word in wv for word in y_test]\n",
    "X_test_pad = X_test_pad[mask_test, :, :]\n",
    "y_test = [word for word in y_test if word in wv]"
   ]
  },
  {
   "cell_type": "code",
   "execution_count": 26,
   "id": "df24926d",
   "metadata": {},
   "outputs": [
    {
     "data": {
      "text/plain": [
       "((678, 40, 50), (293, 40, 50), 678, 293)"
      ]
     },
     "execution_count": 26,
     "metadata": {},
     "output_type": "execute_result"
    }
   ],
   "source": [
    "X_train_pad.shape, X_test_pad.shape, len(y_train), len(y_test)"
   ]
  },
  {
   "cell_type": "code",
   "execution_count": 27,
   "id": "c15fb0e9",
   "metadata": {},
   "outputs": [],
   "source": [
    "# transform y_train and y_test into vectors\n",
    "y_train_vec = np.array([wv[word] for word in y_train])\n",
    "y_test_vec = np.array([wv[word] for word in y_test])"
   ]
  },
  {
   "cell_type": "code",
   "execution_count": 28,
   "id": "01c8cda4",
   "metadata": {},
   "outputs": [
    {
     "data": {
      "text/plain": [
       "((678, 50), (293, 50))"
      ]
     },
     "execution_count": 28,
     "metadata": {},
     "output_type": "execute_result"
    }
   ],
   "source": [
    "y_train_vec.shape, y_test_vec.shape"
   ]
  },
  {
   "cell_type": "code",
   "execution_count": 29,
   "id": "7e88cb62",
   "metadata": {},
   "outputs": [
    {
     "name": "stderr",
     "output_type": "stream",
     "text": [
      "2022-06-27 19:57:27.905042: W tensorflow/stream_executor/platform/default/dso_loader.cc:64] Could not load dynamic library 'libcuda.so.1'; dlerror: libcuda.so.1: cannot open shared object file: No such file or directory\n",
      "2022-06-27 19:57:27.905265: W tensorflow/stream_executor/cuda/cuda_driver.cc:269] failed call to cuInit: UNKNOWN ERROR (303)\n",
      "2022-06-27 19:57:27.905306: I tensorflow/stream_executor/cuda/cuda_diagnostics.cc:156] kernel driver does not appear to be running on this host (think): /proc/driver/nvidia/version does not exist\n",
      "2022-06-27 19:57:27.905623: I tensorflow/core/platform/cpu_feature_guard.cc:193] This TensorFlow binary is optimized with oneAPI Deep Neural Network Library (oneDNN) to use the following CPU instructions in performance-critical operations:  AVX2 FMA\n",
      "To enable them in other operations, rebuild TensorFlow with the appropriate compiler flags.\n"
     ]
    }
   ],
   "source": [
    "# build a model\n",
    "def init_model():\n",
    "    model = Sequential()\n",
    "    model.add(Masking())\n",
    "    model.add(GRU(50, activation=\"tanh\", return_sequences=True))\n",
    "    model.add(GRU(32, activation=\"tanh\", return_sequences=True))\n",
    "    model.add(GRU(16, activation=\"tanh\", return_sequences=False))\n",
    "    model.add(Dense(8, activation=\"relu\"))\n",
    "    model.add(Dense(50, activation=\"linear\"))\n",
    "\n",
    "    model.compile(loss='mae',\n",
    "                  optimizer='rmsprop',\n",
    "                  metrics=['mse'])\n",
    "    \n",
    "    return model\n",
    "\n",
    "model = init_model()"
   ]
  },
  {
   "cell_type": "code",
   "execution_count": 30,
   "id": "f8115e93",
   "metadata": {},
   "outputs": [
    {
     "name": "stdout",
     "output_type": "stream",
     "text": [
      "Epoch 1/100\n",
      "30/30 [==============================] - 16s 153ms/step - loss: 0.4589 - mse: 0.4932 - val_loss: 0.4547 - val_mse: 0.4807\n",
      "Epoch 2/100\n",
      "30/30 [==============================] - 1s 46ms/step - loss: 0.4464 - mse: 0.4764 - val_loss: 0.4463 - val_mse: 0.4593\n",
      "Epoch 3/100\n",
      "30/30 [==============================] - 1s 48ms/step - loss: 0.4361 - mse: 0.4517 - val_loss: 0.4349 - val_mse: 0.4403\n",
      "Epoch 4/100\n",
      "30/30 [==============================] - 2s 52ms/step - loss: 0.4264 - mse: 0.4266 - val_loss: 0.4254 - val_mse: 0.4061\n",
      "Epoch 5/100\n",
      "30/30 [==============================] - 2s 50ms/step - loss: 0.4180 - mse: 0.3985 - val_loss: 0.4170 - val_mse: 0.3749\n",
      "Epoch 6/100\n",
      "30/30 [==============================] - 1s 48ms/step - loss: 0.4098 - mse: 0.3692 - val_loss: 0.4087 - val_mse: 0.3478\n",
      "Epoch 7/100\n",
      "30/30 [==============================] - 2s 52ms/step - loss: 0.4010 - mse: 0.3355 - val_loss: 0.4002 - val_mse: 0.3186\n",
      "Epoch 8/100\n",
      "30/30 [==============================] - 1s 48ms/step - loss: 0.3905 - mse: 0.3000 - val_loss: 0.3874 - val_mse: 0.2824\n",
      "Epoch 9/100\n",
      "30/30 [==============================] - 2s 51ms/step - loss: 0.3797 - mse: 0.2700 - val_loss: 0.3777 - val_mse: 0.2585\n",
      "Epoch 10/100\n",
      "30/30 [==============================] - 2s 51ms/step - loss: 0.3716 - mse: 0.2532 - val_loss: 0.3723 - val_mse: 0.2482\n",
      "Epoch 11/100\n",
      "30/30 [==============================] - 1s 49ms/step - loss: 0.3677 - mse: 0.2475 - val_loss: 0.3705 - val_mse: 0.2471\n",
      "Epoch 12/100\n",
      "30/30 [==============================] - 2s 53ms/step - loss: 0.3652 - mse: 0.2449 - val_loss: 0.3705 - val_mse: 0.2489\n",
      "Epoch 13/100\n",
      "30/30 [==============================] - 1s 49ms/step - loss: 0.3640 - mse: 0.2450 - val_loss: 0.3712 - val_mse: 0.2498\n",
      "Epoch 14/100\n",
      "30/30 [==============================] - 2s 52ms/step - loss: 0.3631 - mse: 0.2445 - val_loss: 0.3704 - val_mse: 0.2516\n",
      "Epoch 15/100\n",
      "30/30 [==============================] - 1s 49ms/step - loss: 0.3623 - mse: 0.2439 - val_loss: 0.3716 - val_mse: 0.2539\n",
      "Epoch 16/100\n",
      "30/30 [==============================] - 1s 49ms/step - loss: 0.3615 - mse: 0.2439 - val_loss: 0.3713 - val_mse: 0.2536\n",
      "Epoch 17/100\n",
      "30/30 [==============================] - 2s 53ms/step - loss: 0.3608 - mse: 0.2425 - val_loss: 0.3722 - val_mse: 0.2538\n"
     ]
    }
   ],
   "source": [
    "es = EarlyStopping(patience=3, restore_best_weights=True)\n",
    "\n",
    "history = model.fit(X_train_pad,\n",
    "                    y_train_vec, \n",
    "                    batch_size = 16,\n",
    "                    epochs=100,\n",
    "                    validation_split=0.3,\n",
    "                    callbacks=[es])"
   ]
  },
  {
   "cell_type": "code",
   "execution_count": 38,
   "id": "0d6ae797",
   "metadata": {},
   "outputs": [
    {
     "data": {
      "text/html": [
       "<div>\n",
       "<style scoped>\n",
       "    .dataframe tbody tr th:only-of-type {\n",
       "        vertical-align: middle;\n",
       "    }\n",
       "\n",
       "    .dataframe tbody tr th {\n",
       "        vertical-align: top;\n",
       "    }\n",
       "\n",
       "    .dataframe thead th {\n",
       "        text-align: right;\n",
       "    }\n",
       "</style>\n",
       "<table border=\"1\" class=\"dataframe\">\n",
       "  <thead>\n",
       "    <tr style=\"text-align: right;\">\n",
       "      <th></th>\n",
       "      <th>epoch</th>\n",
       "      <th>loss</th>\n",
       "      <th>val_loss</th>\n",
       "    </tr>\n",
       "  </thead>\n",
       "  <tbody>\n",
       "    <tr>\n",
       "      <th>0</th>\n",
       "      <td>0</td>\n",
       "      <td>0.458924</td>\n",
       "      <td>0.454705</td>\n",
       "    </tr>\n",
       "    <tr>\n",
       "      <th>1</th>\n",
       "      <td>1</td>\n",
       "      <td>0.446405</td>\n",
       "      <td>0.446258</td>\n",
       "    </tr>\n",
       "    <tr>\n",
       "      <th>2</th>\n",
       "      <td>2</td>\n",
       "      <td>0.436083</td>\n",
       "      <td>0.434868</td>\n",
       "    </tr>\n",
       "    <tr>\n",
       "      <th>3</th>\n",
       "      <td>3</td>\n",
       "      <td>0.426414</td>\n",
       "      <td>0.425384</td>\n",
       "    </tr>\n",
       "    <tr>\n",
       "      <th>4</th>\n",
       "      <td>4</td>\n",
       "      <td>0.417967</td>\n",
       "      <td>0.416996</td>\n",
       "    </tr>\n",
       "  </tbody>\n",
       "</table>\n",
       "</div>"
      ],
      "text/plain": [
       "   epoch      loss  val_loss\n",
       "0      0  0.458924  0.454705\n",
       "1      1  0.446405  0.446258\n",
       "2      2  0.436083  0.434868\n",
       "3      3  0.426414  0.425384\n",
       "4      4  0.417967  0.416996"
      ]
     },
     "execution_count": 38,
     "metadata": {},
     "output_type": "execute_result"
    }
   ],
   "source": [
    "history_df = pd.DataFrame({\n",
    "    \"epoch\" : history.epoch,\n",
    "    \"loss\" : history.history[\"loss\"],\n",
    "    \"val_loss\" : history.history[\"val_loss\"]\n",
    "})"
   ]
  },
  {
   "cell_type": "code",
   "execution_count": 39,
   "id": "30d06785",
   "metadata": {},
   "outputs": [
    {
     "data": {
      "image/png": "[encoded data removed]",
      "text/plain": [
       "<Figure size 432x288 with 1 Axes>"
      ]
     },
     "metadata": {
      "needs_background": "light"
     },
     "output_type": "display_data"
    }
   ],
   "source": [
    "sns.lineplot(data=history_df, x=\"epoch\", y=\"loss\");\n",
    "sns.lineplot(data=history_df, x=\"epoch\", y=\"val_loss\");"
   ]
  },
  {
   "cell_type": "code",
   "execution_count": 40,
   "id": "3eaeb943",
   "metadata": {},
   "outputs": [
    {
     "name": "stdout",
     "output_type": "stream",
     "text": [
      "10/10 [==============================] - 0s 12ms/step - loss: 0.3643 - mse: 0.2402\n"
     ]
    },
    {
     "data": {
      "text/plain": [
       "[0.36432650685310364, 0.24018698930740356]"
      ]
     },
     "execution_count": 40,
     "metadata": {},
     "output_type": "execute_result"
    }
   ],
   "source": [
    "model.evaluate(X_test_pad, y_test_vec)"
   ]
  },
  {
   "cell_type": "code",
   "execution_count": 41,
   "id": "0000ecab",
   "metadata": {},
   "outputs": [
    {
     "name": "stdout",
     "output_type": "stream",
     "text": [
      "1/1 [==============================] - 3s 3s/step\n",
      "1/1 [==============================] - 0s 40ms/step\n",
      "1/1 [==============================] - 0s 39ms/step\n",
      "1/1 [==============================] - 0s 41ms/step\n",
      "1/1 [==============================] - 0s 45ms/step\n",
      "1/1 [==============================] - 0s 30ms/step\n",
      "1/1 [==============================] - 0s 28ms/step\n",
      "1/1 [==============================] - 0s 37ms/step\n",
      "1/1 [==============================] - 0s 33ms/step\n",
      "1/1 [==============================] - 0s 38ms/step\n"
     ]
    },
    {
     "data": {
      "text/plain": [
       "\"he doesn't realize that his behavior should change and continues to act as he had before he listens to rap music sings along and plays the stereotypical part of an urban black man the real humor in this but but but but but but but but but but\""
      ]
     },
     "execution_count": 41,
     "metadata": {},
     "output_type": "execute_result"
    }
   ],
   "source": [
    "# let's put this into a function\n",
    "def repeat_prediction(sentence, repetition=10):\n",
    "    new_sentence = sentence\n",
    "    X = sentence.split()\n",
    "    for i in range(repetition):\n",
    "        X_embed = embedding(word2vec, [X])\n",
    "        X_pad = pad_sequences(X_embed, dtype='float32', padding='post', maxlen=40)\n",
    "        y_pred = model.predict(X_pad)\n",
    "        new_word = wv.similar_by_vector(y_pred[0], topn=1)[0][0]\n",
    "        X.pop(0)\n",
    "        X.append(new_word)\n",
    "        new_sentence += \" \" + new_word\n",
    "    return new_sentence\n",
    "\n",
    "sentence = \"he doesn't realize that his behavior should change and continues to act as he had before he listens to rap music sings along and plays the stereotypical part of an urban black man the real humor in this\"\n",
    "new_sentence = repeat_prediction(sentence)\n",
    "new_sentence"
   ]
  },
  {
   "cell_type": "code",
   "execution_count": 42,
   "id": "77c0be8b",
   "metadata": {},
   "outputs": [
    {
     "name": "stdout",
     "output_type": "stream",
     "text": [
      "1/1 [==============================] - 0s 21ms/step\n",
      "1/1 [==============================] - 0s 45ms/step\n",
      "1/1 [==============================] - 0s 31ms/step\n",
      "1/1 [==============================] - 0s 27ms/step\n",
      "1/1 [==============================] - 0s 36ms/step\n",
      "1/1 [==============================] - 0s 44ms/step\n",
      "1/1 [==============================] - 0s 39ms/step\n",
      "1/1 [==============================] - 0s 33ms/step\n",
      "1/1 [==============================] - 0s 36ms/step\n",
      "1/1 [==============================] - 0s 38ms/step\n"
     ]
    },
    {
     "data": {
      "text/plain": [
       "'i like this movie and the actor but but but but but but but but but but'"
      ]
     },
     "execution_count": 42,
     "metadata": {},
     "output_type": "execute_result"
    }
   ],
   "source": [
    "sentence = \"i like this movie and the actor\"\n",
    "new_sentence = repeat_prediction(sentence)\n",
    "new_sentence"
   ]
  },
  {
   "cell_type": "code",
   "execution_count": 45,
   "id": "0d73292b",
   "metadata": {},
   "outputs": [],
   "source": [
    "# inspect y_train because I suspect there are not enough training data for each word\n",
    "# (if each word only appears once in y_train, it's not enough)"
   ]
  },
  {
   "cell_type": "code",
   "execution_count": 52,
   "id": "fc9ead51",
   "metadata": {},
   "outputs": [
    {
     "data": {
      "text/html": [
       "<div>\n",
       "<style scoped>\n",
       "    .dataframe tbody tr th:only-of-type {\n",
       "        vertical-align: middle;\n",
       "    }\n",
       "\n",
       "    .dataframe tbody tr th {\n",
       "        vertical-align: top;\n",
       "    }\n",
       "\n",
       "    .dataframe thead th {\n",
       "        text-align: right;\n",
       "    }\n",
       "</style>\n",
       "<table border=\"1\" class=\"dataframe\">\n",
       "  <thead>\n",
       "    <tr style=\"text-align: right;\">\n",
       "      <th></th>\n",
       "      <th>y_train</th>\n",
       "      <th>n_observation</th>\n",
       "    </tr>\n",
       "  </thead>\n",
       "  <tbody>\n",
       "    <tr>\n",
       "      <th>0</th>\n",
       "      <td>1983</td>\n",
       "      <td>1</td>\n",
       "    </tr>\n",
       "    <tr>\n",
       "      <th>1</th>\n",
       "      <td>20</td>\n",
       "      <td>1</td>\n",
       "    </tr>\n",
       "    <tr>\n",
       "      <th>2</th>\n",
       "      <td>2006</td>\n",
       "      <td>1</td>\n",
       "    </tr>\n",
       "    <tr>\n",
       "      <th>3</th>\n",
       "      <td>35</td>\n",
       "      <td>1</td>\n",
       "    </tr>\n",
       "    <tr>\n",
       "      <th>4</th>\n",
       "      <td>6th</td>\n",
       "      <td>1</td>\n",
       "    </tr>\n",
       "    <tr>\n",
       "      <th>...</th>\n",
       "      <td>...</td>\n",
       "      <td>...</td>\n",
       "    </tr>\n",
       "    <tr>\n",
       "      <th>377</th>\n",
       "      <td>yang</td>\n",
       "      <td>1</td>\n",
       "    </tr>\n",
       "    <tr>\n",
       "      <th>378</th>\n",
       "      <td>you</td>\n",
       "      <td>7</td>\n",
       "    </tr>\n",
       "    <tr>\n",
       "      <th>379</th>\n",
       "      <td>young</td>\n",
       "      <td>1</td>\n",
       "    </tr>\n",
       "    <tr>\n",
       "      <th>380</th>\n",
       "      <td>zero</td>\n",
       "      <td>1</td>\n",
       "    </tr>\n",
       "    <tr>\n",
       "      <th>381</th>\n",
       "      <td>zhao</td>\n",
       "      <td>1</td>\n",
       "    </tr>\n",
       "  </tbody>\n",
       "</table>\n",
       "<p>382 rows × 2 columns</p>\n",
       "</div>"
      ],
      "text/plain": [
       "    y_train  n_observation\n",
       "0      1983              1\n",
       "1        20              1\n",
       "2      2006              1\n",
       "3        35              1\n",
       "4       6th              1\n",
       "..      ...            ...\n",
       "377    yang              1\n",
       "378     you              7\n",
       "379   young              1\n",
       "380    zero              1\n",
       "381    zhao              1\n",
       "\n",
       "[382 rows x 2 columns]"
      ]
     },
     "execution_count": 52,
     "metadata": {},
     "output_type": "execute_result"
    }
   ],
   "source": [
    "df_y = pd.DataFrame({\n",
    "    \"y_train\" : y_train,\n",
    "    \"n_observation\" : [1 for i in y_train]\n",
    "})\n",
    "df_y_sum = df_y.groupby(\"y_train\", as_index=False).count()\n",
    "df_y_sum"
   ]
  },
  {
   "cell_type": "code",
   "execution_count": 55,
   "id": "9676926d",
   "metadata": {},
   "outputs": [
    {
     "data": {
      "text/html": [
       "<div>\n",
       "<style scoped>\n",
       "    .dataframe tbody tr th:only-of-type {\n",
       "        vertical-align: middle;\n",
       "    }\n",
       "\n",
       "    .dataframe tbody tr th {\n",
       "        vertical-align: top;\n",
       "    }\n",
       "\n",
       "    .dataframe thead th {\n",
       "        text-align: right;\n",
       "    }\n",
       "</style>\n",
       "<table border=\"1\" class=\"dataframe\">\n",
       "  <thead>\n",
       "    <tr style=\"text-align: right;\">\n",
       "      <th></th>\n",
       "      <th>y_train</th>\n",
       "      <th>n_observation</th>\n",
       "    </tr>\n",
       "  </thead>\n",
       "  <tbody>\n",
       "    <tr>\n",
       "      <th>317</th>\n",
       "      <td>the</td>\n",
       "      <td>31</td>\n",
       "    </tr>\n",
       "    <tr>\n",
       "      <th>18</th>\n",
       "      <td>and</td>\n",
       "      <td>28</td>\n",
       "    </tr>\n",
       "    <tr>\n",
       "      <th>331</th>\n",
       "      <td>to</td>\n",
       "      <td>21</td>\n",
       "    </tr>\n",
       "    <tr>\n",
       "      <th>5</th>\n",
       "      <td>a</td>\n",
       "      <td>18</td>\n",
       "    </tr>\n",
       "    <tr>\n",
       "      <th>158</th>\n",
       "      <td>it</td>\n",
       "      <td>16</td>\n",
       "    </tr>\n",
       "    <tr>\n",
       "      <th>...</th>\n",
       "      <td>...</td>\n",
       "      <td>...</td>\n",
       "    </tr>\n",
       "    <tr>\n",
       "      <th>264</th>\n",
       "      <td>say</td>\n",
       "      <td>2</td>\n",
       "    </tr>\n",
       "    <tr>\n",
       "      <th>266</th>\n",
       "      <td>scene</td>\n",
       "      <td>2</td>\n",
       "    </tr>\n",
       "    <tr>\n",
       "      <th>272</th>\n",
       "      <td>series</td>\n",
       "      <td>2</td>\n",
       "    </tr>\n",
       "    <tr>\n",
       "      <th>278</th>\n",
       "      <td>she</td>\n",
       "      <td>2</td>\n",
       "    </tr>\n",
       "    <tr>\n",
       "      <th>193</th>\n",
       "      <td>me</td>\n",
       "      <td>2</td>\n",
       "    </tr>\n",
       "  </tbody>\n",
       "</table>\n",
       "<p>75 rows × 2 columns</p>\n",
       "</div>"
      ],
      "text/plain": [
       "    y_train  n_observation\n",
       "317     the             31\n",
       "18      and             28\n",
       "331      to             21\n",
       "5         a             18\n",
       "158      it             16\n",
       "..      ...            ...\n",
       "264     say              2\n",
       "266   scene              2\n",
       "272  series              2\n",
       "278     she              2\n",
       "193      me              2\n",
       "\n",
       "[75 rows x 2 columns]"
      ]
     },
     "execution_count": 55,
     "metadata": {},
     "output_type": "execute_result"
    }
   ],
   "source": [
    "df_y_sum[df_y_sum[\"n_observation\"] != 1].sort_values(by=\"n_observation\", ascending=False)"
   ]
  },
  {
   "cell_type": "code",
   "execution_count": 54,
   "id": "cc2b994f",
   "metadata": {},
   "outputs": [
    {
     "data": {
      "image/png": "[encoded data removed]",
      "text/plain": [
       "<Figure size 432x288 with 1 Axes>"
      ]
     },
     "metadata": {
      "needs_background": "light"
     },
     "output_type": "display_data"
    }
   ],
   "source": [
    "sns.histplot(data=df_y_sum, x=\"n_observation\", bins=10);"
   ]
  },
  {
   "cell_type": "code",
   "execution_count": 56,
   "id": "adc50e26",
   "metadata": {},
   "outputs": [],
   "source": [
    "# The issue is indeed that y_train is always different so the model cannot learn"
   ]
  }
 ],
 "metadata": {
  "kernelspec": {
   "display_name": "Python 3 (ipykernel)",
   "language": "python",
   "name": "python3"
  },
  "language_info": {
   "codemirror_mode": {
    "name": "ipython",
    "version": 3
   },
   "file_extension": ".py",
   "mimetype": "text/x-python",
   "name": "python",
   "nbconvert_exporter": "python",
   "pygments_lexer": "ipython3",
   "version": "3.8.12"
  },
  "toc": {
   "base_numbering": 1,
   "nav_menu": {},
   "number_sections": true,
   "sideBar": true,
   "skip_h1_title": false,
   "title_cell": "Table of Contents",
   "title_sidebar": "Contents",
   "toc_cell": false,
   "toc_position": {},
   "toc_section_display": true,
   "toc_window_display": false
  },
  "varInspector": {
   "cols": {
    "lenName": 16,
    "lenType": 16,
    "lenVar": 40
   },
   "kernels_config": {
    "python": {
     "delete_cmd_postfix": "",
     "delete_cmd_prefix": "del ",
     "library": "var_list.py",
     "varRefreshCmd": "print(var_dic_list())"
    },
    "r": {
     "delete_cmd_postfix": ") ",
     "delete_cmd_prefix": "rm(",
     "library": "var_list.r",
     "varRefreshCmd": "cat(var_dic_list()) "
    }
   },
   "types_to_exclude": [
    "module",
    "function",
    "builtin_function_or_method",
    "instance",
    "_Feature"
   ],
   "window_display": false
  }
 },
 "nbformat": 4,
 "nbformat_minor": 5
}
