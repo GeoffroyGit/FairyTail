{
 "cells": [
  {
   "cell_type": "code",
   "execution_count": 1,
   "id": "eeec8a81",
   "metadata": {},
   "outputs": [
    {
     "name": "stderr",
     "output_type": "stream",
     "text": [
      "2022-06-29 11:59:22.836913: W tensorflow/stream_executor/platform/default/dso_loader.cc:64] Could not load dynamic library 'libcudart.so.11.0'; dlerror: libcudart.so.11.0: cannot open shared object file: No such file or directory\n",
      "2022-06-29 11:59:22.836938: I tensorflow/stream_executor/cuda/cudart_stub.cc:29] Ignore above cudart dlerror if you do not have a GPU set up on your machine.\n"
     ]
    }
   ],
   "source": [
    "import numpy as np\n",
    "import pandas as pd\n",
    "import seaborn as sns\n",
    "from sklearn.model_selection import train_test_split\n",
    "from gensim.models import Word2Vec\n",
    "import gensim.downloader as api\n",
    "from tensorflow.keras import Sequential\n",
    "from tensorflow.keras.layers import Masking, Dense, LSTM, GRU, SimpleRNN\n",
    "from tensorflow.keras.callbacks import EarlyStopping\n",
    "from tensorflow.keras.preprocessing.sequence import pad_sequences"
   ]
  },
  {
   "cell_type": "code",
   "execution_count": 2,
   "id": "336fa431",
   "metadata": {},
   "outputs": [],
   "source": [
    "from FairyTail.data import GetData"
   ]
  },
  {
   "cell_type": "code",
   "execution_count": 3,
   "id": "e922cc86",
   "metadata": {},
   "outputs": [],
   "source": [
    "X, y = GetData().get()"
   ]
  },
  {
   "cell_type": "code",
   "execution_count": 4,
   "id": "6e57fca0",
   "metadata": {},
   "outputs": [
    {
     "data": {
      "text/plain": [
       "(65200, 65200)"
      ]
     },
     "execution_count": 4,
     "metadata": {},
     "output_type": "execute_result"
    }
   ],
   "source": [
    "len(X), len(y)"
   ]
  },
  {
   "cell_type": "code",
   "execution_count": 5,
   "id": "1541512d",
   "metadata": {},
   "outputs": [],
   "source": [
    "# let's us a pre-trained word2vec\n",
    "word2vec = api.load(\"glove-wiki-gigaword-50\")\n",
    "wv = word2vec"
   ]
  },
  {
   "cell_type": "code",
   "execution_count": 6,
   "id": "72e39939",
   "metadata": {},
   "outputs": [
    {
     "data": {
      "text/plain": [
       "400000"
      ]
     },
     "execution_count": 6,
     "metadata": {},
     "output_type": "execute_result"
    }
   ],
   "source": [
    "vocab_size = len(wv.key_to_index)\n",
    "vocab_size"
   ]
  },
  {
   "cell_type": "code",
   "execution_count": 7,
   "id": "2c72d029",
   "metadata": {},
   "outputs": [
    {
     "data": {
      "text/plain": [
       "1.0"
      ]
     },
     "execution_count": 7,
     "metadata": {},
     "output_type": "execute_result"
    }
   ],
   "source": [
    "# let's check if all words in y are in word2vec\n",
    "sum([word in wv for word in y]) / len(y)"
   ]
  },
  {
   "cell_type": "code",
   "execution_count": 8,
   "id": "bd3c87cd",
   "metadata": {},
   "outputs": [],
   "source": [
    "assert(False not in [word in wv for word in y])"
   ]
  },
  {
   "cell_type": "code",
   "execution_count": 9,
   "id": "05dabd59",
   "metadata": {},
   "outputs": [
    {
     "data": {
      "text/plain": [
       "0.9932706685785074"
      ]
     },
     "execution_count": 9,
     "metadata": {},
     "output_type": "execute_result"
    }
   ],
   "source": [
    "# let's check if all words in X are in word2vec\n",
    "toto = []\n",
    "for sentence in X:\n",
    "    for word in sentence:\n",
    "        toto.append(word)\n",
    "sum([word in wv for word in toto]) / len(toto)"
   ]
  },
  {
   "cell_type": "code",
   "execution_count": 10,
   "id": "ec58f2c4",
   "metadata": {},
   "outputs": [],
   "source": [
    "# train test split\n",
    "X_train, X_test, y_train, y_test = train_test_split(X, y, test_size=0.3)"
   ]
  },
  {
   "cell_type": "code",
   "execution_count": 11,
   "id": "9f037e64",
   "metadata": {},
   "outputs": [],
   "source": [
    "# Function to convert a sentence (list of words) into a matrix representing the words in the embedding space\n",
    "def embed_sentence_with_TF(word2vec, sentence):\n",
    "    embedded_sentence = []\n",
    "    for word in sentence:\n",
    "        if word in word2vec:\n",
    "            embedded_sentence.append(word2vec[word])\n",
    "        \n",
    "    return np.array(embedded_sentence)\n",
    "\n",
    "# Function that converts a list of sentences into a list of matrices\n",
    "def embedding(word2vec, sentences):\n",
    "    embed = []\n",
    "    \n",
    "    for sentence in sentences:\n",
    "        embedded_sentence = embed_sentence_with_TF(word2vec, sentence)\n",
    "        embed.append(embedded_sentence)\n",
    "        \n",
    "    return embed\n",
    "\n",
    "# Embed and pad the training and test sentences\n",
    "X_train_pad = pad_sequences(embedding(word2vec, X_train), dtype='float32', padding='post', maxlen=20)\n",
    "X_test_pad = pad_sequences(embedding(word2vec, X_test), dtype='float32', padding='post', maxlen=20)"
   ]
  },
  {
   "cell_type": "code",
   "execution_count": 12,
   "id": "d14eaa4a",
   "metadata": {},
   "outputs": [
    {
     "data": {
      "text/plain": [
       "((45640, 20, 50), (19560, 20, 50))"
      ]
     },
     "execution_count": 12,
     "metadata": {},
     "output_type": "execute_result"
    }
   ],
   "source": [
    "# check the shape of the padded data\n",
    "X_train_pad.shape, X_test_pad.shape"
   ]
  },
  {
   "cell_type": "code",
   "execution_count": 13,
   "id": "7fc06548",
   "metadata": {},
   "outputs": [],
   "source": [
    "# transform y_train and y_test into vectors\n",
    "y_train_vec = np.array([wv[word] for word in y_train])\n",
    "y_test_vec = np.array([wv[word] for word in y_test])"
   ]
  },
  {
   "cell_type": "code",
   "execution_count": 14,
   "id": "f0ca4ff6",
   "metadata": {},
   "outputs": [
    {
     "data": {
      "text/plain": [
       "((45640, 50), (19560, 50))"
      ]
     },
     "execution_count": 14,
     "metadata": {},
     "output_type": "execute_result"
    }
   ],
   "source": [
    "# check the shape of the target data\n",
    "y_train_vec.shape, y_test_vec.shape"
   ]
  },
  {
   "cell_type": "code",
   "execution_count": 15,
   "id": "ec6bde79",
   "metadata": {},
   "outputs": [
    {
     "name": "stderr",
     "output_type": "stream",
     "text": [
      "2022-06-29 11:59:53.354385: W tensorflow/stream_executor/platform/default/dso_loader.cc:64] Could not load dynamic library 'libcuda.so.1'; dlerror: libcuda.so.1: cannot open shared object file: No such file or directory\n",
      "2022-06-29 11:59:53.354405: W tensorflow/stream_executor/cuda/cuda_driver.cc:269] failed call to cuInit: UNKNOWN ERROR (303)\n",
      "2022-06-29 11:59:53.354422: I tensorflow/stream_executor/cuda/cuda_diagnostics.cc:156] kernel driver does not appear to be running on this host (think): /proc/driver/nvidia/version does not exist\n",
      "2022-06-29 11:59:53.354657: I tensorflow/core/platform/cpu_feature_guard.cc:193] This TensorFlow binary is optimized with oneAPI Deep Neural Network Library (oneDNN) to use the following CPU instructions in performance-critical operations:  AVX2 FMA\n",
      "To enable them in other operations, rebuild TensorFlow with the appropriate compiler flags.\n"
     ]
    }
   ],
   "source": [
    "# build a model\n",
    "def init_model():\n",
    "    model = Sequential()\n",
    "    model.add(Masking())\n",
    "    model.add(GRU(50, activation=\"tanh\", return_sequences=True))\n",
    "    model.add(GRU(16, activation=\"tanh\", return_sequences=False))\n",
    "    model.add(Dense(16, activation=\"relu\"))\n",
    "    model.add(Dense(50, activation=\"linear\"))\n",
    "\n",
    "    model.compile(loss='mae',\n",
    "                  optimizer='rmsprop',\n",
    "                  metrics=['mse'])\n",
    "    \n",
    "    return model\n",
    "\n",
    "model = init_model()"
   ]
  },
  {
   "cell_type": "code",
   "execution_count": 16,
   "id": "8214116d",
   "metadata": {},
   "outputs": [
    {
     "name": "stdout",
     "output_type": "stream",
     "text": [
      "Epoch 1/100\n",
      "1997/1997 [==============================] - 47s 19ms/step - loss: 0.3458 - mse: 0.2137 - val_loss: 0.3399 - val_mse: 0.2050\n",
      "Epoch 2/100\n",
      "1997/1997 [==============================] - 41s 20ms/step - loss: 0.3391 - mse: 0.2035 - val_loss: 0.3371 - val_mse: 0.2011\n",
      "Epoch 3/100\n",
      "1997/1997 [==============================] - 38s 19ms/step - loss: 0.3373 - mse: 0.2015 - val_loss: 0.3377 - val_mse: 0.2020\n",
      "Epoch 4/100\n",
      "1997/1997 [==============================] - 35s 18ms/step - loss: 0.3361 - mse: 0.2001 - val_loss: 0.3360 - val_mse: 0.2000\n",
      "Epoch 5/100\n",
      "1997/1997 [==============================] - 36s 18ms/step - loss: 0.3348 - mse: 0.1988 - val_loss: 0.3350 - val_mse: 0.1987\n",
      "Epoch 6/100\n",
      "1997/1997 [==============================] - 35s 18ms/step - loss: 0.3336 - mse: 0.1976 - val_loss: 0.3346 - val_mse: 0.1974\n",
      "Epoch 7/100\n",
      "1997/1997 [==============================] - 36s 18ms/step - loss: 0.3323 - mse: 0.1962 - val_loss: 0.3367 - val_mse: 0.1997\n",
      "Epoch 8/100\n",
      "1997/1997 [==============================] - 35s 18ms/step - loss: 0.3313 - mse: 0.1951 - val_loss: 0.3340 - val_mse: 0.1982\n",
      "Epoch 9/100\n",
      "1997/1997 [==============================] - 36s 18ms/step - loss: 0.3303 - mse: 0.1941 - val_loss: 0.3340 - val_mse: 0.1982\n",
      "Epoch 10/100\n",
      "1997/1997 [==============================] - 36s 18ms/step - loss: 0.3293 - mse: 0.1932 - val_loss: 0.3343 - val_mse: 0.1979\n",
      "Epoch 11/100\n",
      "1997/1997 [==============================] - 35s 18ms/step - loss: 0.3285 - mse: 0.1925 - val_loss: 0.3339 - val_mse: 0.1977\n",
      "Epoch 12/100\n",
      "1997/1997 [==============================] - 36s 18ms/step - loss: 0.3277 - mse: 0.1916 - val_loss: 0.3347 - val_mse: 0.1986\n",
      "Epoch 13/100\n",
      "1997/1997 [==============================] - 41s 21ms/step - loss: 0.3270 - mse: 0.1909 - val_loss: 0.3341 - val_mse: 0.1978\n",
      "Epoch 14/100\n",
      "1997/1997 [==============================] - 40s 20ms/step - loss: 0.3262 - mse: 0.1901 - val_loss: 0.3350 - val_mse: 0.1981\n"
     ]
    }
   ],
   "source": [
    "es = EarlyStopping(patience=3, restore_best_weights=True)\n",
    "\n",
    "history = model.fit(X_train_pad,\n",
    "                    y_train_vec, \n",
    "                    batch_size = 16,\n",
    "                    epochs=100,\n",
    "                    validation_split=0.3,\n",
    "                    callbacks=[es])"
   ]
  },
  {
   "cell_type": "code",
   "execution_count": 17,
   "id": "e95892cb",
   "metadata": {},
   "outputs": [
    {
     "data": {
      "image/png": "[encoded data removed]",
      "text/plain": [
       "<Figure size 432x288 with 1 Axes>"
      ]
     },
     "metadata": {
      "needs_background": "light"
     },
     "output_type": "display_data"
    }
   ],
   "source": [
    "history_df = pd.DataFrame({\n",
    "    \"epoch\" : history.epoch,\n",
    "    \"loss\" : history.history[\"loss\"],\n",
    "    \"val_loss\" : history.history[\"val_loss\"]\n",
    "})\n",
    "sns.lineplot(data=history_df, x=\"epoch\", y=\"loss\");\n",
    "sns.lineplot(data=history_df, x=\"epoch\", y=\"val_loss\");"
   ]
  },
  {
   "cell_type": "code",
   "execution_count": 18,
   "id": "fae6d8db",
   "metadata": {},
   "outputs": [],
   "source": [
    "# build a model\n",
    "def init_model():\n",
    "    model = Sequential()\n",
    "    model.add(Masking())\n",
    "    model.add(SimpleRNN(50, activation=\"tanh\", return_sequences=True))\n",
    "    model.add(SimpleRNN(16, activation=\"tanh\", return_sequences=False))\n",
    "    model.add(Dense(16, activation=\"relu\"))\n",
    "    model.add(Dense(50, activation=\"linear\"))\n",
    "\n",
    "    model.compile(loss='mae',\n",
    "                  optimizer='rmsprop',\n",
    "                  metrics=['mse'])\n",
    "    \n",
    "    return model\n",
    "\n",
    "model = init_model()"
   ]
  },
  {
   "cell_type": "code",
   "execution_count": 19,
   "id": "9a21144c",
   "metadata": {},
   "outputs": [
    {
     "name": "stdout",
     "output_type": "stream",
     "text": [
      "Epoch 1/100\n",
      "1997/1997 [==============================] - 26s 12ms/step - loss: 0.3509 - mse: 0.2258 - val_loss: 0.3406 - val_mse: 0.2043\n",
      "Epoch 2/100\n",
      "1997/1997 [==============================] - 22s 11ms/step - loss: 0.3410 - mse: 0.2056 - val_loss: 0.3407 - val_mse: 0.2057\n",
      "Epoch 3/100\n",
      "1997/1997 [==============================] - 22s 11ms/step - loss: 0.3402 - mse: 0.2046 - val_loss: 0.3396 - val_mse: 0.2031\n",
      "Epoch 4/100\n",
      "1997/1997 [==============================] - 22s 11ms/step - loss: 0.3390 - mse: 0.2034 - val_loss: 0.3392 - val_mse: 0.2026\n",
      "Epoch 5/100\n",
      "1997/1997 [==============================] - 22s 11ms/step - loss: 0.3379 - mse: 0.2022 - val_loss: 0.3375 - val_mse: 0.2015\n",
      "Epoch 6/100\n",
      "1997/1997 [==============================] - 22s 11ms/step - loss: 0.3370 - mse: 0.2012 - val_loss: 0.3374 - val_mse: 0.2010\n",
      "Epoch 7/100\n",
      "1997/1997 [==============================] - 22s 11ms/step - loss: 0.3363 - mse: 0.2004 - val_loss: 0.3369 - val_mse: 0.2003\n",
      "Epoch 8/100\n",
      "1997/1997 [==============================] - 22s 11ms/step - loss: 0.3355 - mse: 0.1996 - val_loss: 0.3366 - val_mse: 0.1993\n",
      "Epoch 9/100\n",
      "1997/1997 [==============================] - 24s 12ms/step - loss: 0.3348 - mse: 0.1990 - val_loss: 0.3373 - val_mse: 0.2015\n",
      "Epoch 10/100\n",
      "1997/1997 [==============================] - 23s 11ms/step - loss: 0.3343 - mse: 0.1984 - val_loss: 0.3357 - val_mse: 0.1997\n",
      "Epoch 11/100\n",
      "1997/1997 [==============================] - 22s 11ms/step - loss: 0.3338 - mse: 0.1981 - val_loss: 0.3355 - val_mse: 0.1988\n",
      "Epoch 12/100\n",
      "1997/1997 [==============================] - 24s 12ms/step - loss: 0.3333 - mse: 0.1975 - val_loss: 0.3360 - val_mse: 0.2004\n",
      "Epoch 13/100\n",
      "1997/1997 [==============================] - 25s 12ms/step - loss: 0.3329 - mse: 0.1970 - val_loss: 0.3357 - val_mse: 0.2004\n",
      "Epoch 14/100\n",
      "1997/1997 [==============================] - 23s 12ms/step - loss: 0.3324 - mse: 0.1967 - val_loss: 0.3355 - val_mse: 0.2000\n"
     ]
    }
   ],
   "source": [
    "es = EarlyStopping(patience=3, restore_best_weights=True)\n",
    "\n",
    "history = model.fit(X_train_pad,\n",
    "                    y_train_vec, \n",
    "                    batch_size = 16,\n",
    "                    epochs=100,\n",
    "                    validation_split=0.3,\n",
    "                    callbacks=[es])"
   ]
  },
  {
   "cell_type": "code",
   "execution_count": 20,
   "id": "0f41d581",
   "metadata": {},
   "outputs": [
    {
     "data": {
      "image/png": "[encoded data removed]",
      "text/plain": [
       "<Figure size 432x288 with 1 Axes>"
      ]
     },
     "metadata": {
      "needs_background": "light"
     },
     "output_type": "display_data"
    }
   ],
   "source": [
    "history_df = pd.DataFrame({\n",
    "    \"epoch\" : history.epoch,\n",
    "    \"loss\" : history.history[\"loss\"],\n",
    "    \"val_loss\" : history.history[\"val_loss\"]\n",
    "})\n",
    "sns.lineplot(data=history_df, x=\"epoch\", y=\"loss\");\n",
    "sns.lineplot(data=history_df, x=\"epoch\", y=\"val_loss\");"
   ]
  },
  {
   "cell_type": "code",
   "execution_count": 21,
   "id": "4e6e4eaf",
   "metadata": {},
   "outputs": [],
   "source": [
    "# build a model\n",
    "def init_model():\n",
    "    model = Sequential()\n",
    "    model.add(Masking())\n",
    "    model.add(SimpleRNN(50, activation=\"tanh\", return_sequences=True))\n",
    "    model.add(SimpleRNN(16, activation=\"tanh\", return_sequences=False))\n",
    "    model.add(Dense(50, activation=\"linear\"))\n",
    "\n",
    "    model.compile(loss='mae',\n",
    "                  optimizer='rmsprop',\n",
    "                  metrics=['mse'])\n",
    "    \n",
    "    return model\n",
    "\n",
    "model = init_model()"
   ]
  },
  {
   "cell_type": "code",
   "execution_count": 22,
   "id": "94dda7bc",
   "metadata": {},
   "outputs": [
    {
     "name": "stdout",
     "output_type": "stream",
     "text": [
      "Epoch 1/100\n",
      "1997/1997 [==============================] - 32s 15ms/step - loss: 0.3470 - mse: 0.2154 - val_loss: 0.3404 - val_mse: 0.2046\n",
      "Epoch 2/100\n",
      "1997/1997 [==============================] - 29s 14ms/step - loss: 0.3408 - mse: 0.2056 - val_loss: 0.3391 - val_mse: 0.2046\n",
      "Epoch 3/100\n",
      "1997/1997 [==============================] - 27s 14ms/step - loss: 0.3394 - mse: 0.2041 - val_loss: 0.3386 - val_mse: 0.2027\n",
      "Epoch 4/100\n",
      "1997/1997 [==============================] - 24s 12ms/step - loss: 0.3386 - mse: 0.2030 - val_loss: 0.3388 - val_mse: 0.2026\n",
      "Epoch 5/100\n",
      "1997/1997 [==============================] - 25s 12ms/step - loss: 0.3379 - mse: 0.2022 - val_loss: 0.3375 - val_mse: 0.2014\n",
      "Epoch 6/100\n",
      "1997/1997 [==============================] - 25s 12ms/step - loss: 0.3372 - mse: 0.2015 - val_loss: 0.3379 - val_mse: 0.2027\n",
      "Epoch 7/100\n",
      "1997/1997 [==============================] - 24s 12ms/step - loss: 0.3366 - mse: 0.2008 - val_loss: 0.3378 - val_mse: 0.2009\n",
      "Epoch 8/100\n",
      "1997/1997 [==============================] - 22s 11ms/step - loss: 0.3360 - mse: 0.2002 - val_loss: 0.3408 - val_mse: 0.2075\n"
     ]
    }
   ],
   "source": [
    "es = EarlyStopping(patience=3, restore_best_weights=True)\n",
    "\n",
    "history = model.fit(X_train_pad,\n",
    "                    y_train_vec, \n",
    "                    batch_size = 16,\n",
    "                    epochs=100,\n",
    "                    validation_split=0.3,\n",
    "                    callbacks=[es])"
   ]
  },
  {
   "cell_type": "code",
   "execution_count": 23,
   "id": "4116df31",
   "metadata": {},
   "outputs": [
    {
     "data": {
      "image/png": "[encoded data removed]",
      "text/plain": [
       "<Figure size 432x288 with 1 Axes>"
      ]
     },
     "metadata": {
      "needs_background": "light"
     },
     "output_type": "display_data"
    }
   ],
   "source": [
    "history_df = pd.DataFrame({\n",
    "    \"epoch\" : history.epoch,\n",
    "    \"loss\" : history.history[\"loss\"],\n",
    "    \"val_loss\" : history.history[\"val_loss\"]\n",
    "})\n",
    "sns.lineplot(data=history_df, x=\"epoch\", y=\"loss\");\n",
    "sns.lineplot(data=history_df, x=\"epoch\", y=\"val_loss\");"
   ]
  },
  {
   "cell_type": "code",
   "execution_count": null,
   "id": "ae55e6bf",
   "metadata": {},
   "outputs": [],
   "source": []
  }
 ],
 "metadata": {
  "kernelspec": {
   "display_name": "Python 3 (ipykernel)",
   "language": "python",
   "name": "python3"
  },
  "language_info": {
   "codemirror_mode": {
    "name": "ipython",
    "version": 3
   },
   "file_extension": ".py",
   "mimetype": "text/x-python",
   "name": "python",
   "nbconvert_exporter": "python",
   "pygments_lexer": "ipython3",
   "version": "3.8.12"
  },
  "toc": {
   "base_numbering": 1,
   "nav_menu": {},
   "number_sections": true,
   "sideBar": true,
   "skip_h1_title": false,
   "title_cell": "Table of Contents",
   "title_sidebar": "Contents",
   "toc_cell": false,
   "toc_position": {},
   "toc_section_display": true,
   "toc_window_display": false
  },
  "varInspector": {
   "cols": {
    "lenName": 16,
    "lenType": 16,
    "lenVar": 40
   },
   "kernels_config": {
    "python": {
     "delete_cmd_postfix": "",
     "delete_cmd_prefix": "del ",
     "library": "var_list.py",
     "varRefreshCmd": "print(var_dic_list())"
    },
    "r": {
     "delete_cmd_postfix": ") ",
     "delete_cmd_prefix": "rm(",
     "library": "var_list.r",
     "varRefreshCmd": "cat(var_dic_list()) "
    }
   },
   "types_to_exclude": [
    "module",
    "function",
    "builtin_function_or_method",
    "instance",
    "_Feature"
   ],
   "window_display": false
  }
 },
 "nbformat": 4,
 "nbformat_minor": 5
}
