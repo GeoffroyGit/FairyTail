{
 "cells": [
  {
   "cell_type": "code",
   "execution_count": 1,
   "id": "8f3b6e86",
   "metadata": {},
   "outputs": [
    {
     "name": "stderr",
     "output_type": "stream",
     "text": [
      "2022-07-05 12:48:56.164787: W tensorflow/stream_executor/platform/default/dso_loader.cc:64] Could not load dynamic library 'libcudart.so.11.0'; dlerror: libcudart.so.11.0: cannot open shared object file: No such file or directory\n",
      "2022-07-05 12:48:56.164844: I tensorflow/stream_executor/cuda/cudart_stub.cc:29] Ignore above cudart dlerror if you do not have a GPU set up on your machine.\n"
     ]
    }
   ],
   "source": [
    "import numpy as np\n",
    "import pandas as pd\n",
    "import seaborn as sns\n",
    "from sklearn.model_selection import train_test_split\n",
    "from gensim.models import Word2Vec\n",
    "import gensim.downloader as api\n",
    "from tensorflow.keras import Sequential\n",
    "from tensorflow.keras.layers import Masking, Dense, LSTM, GRU, SimpleRNN\n",
    "from tensorflow.keras.callbacks import EarlyStopping\n",
    "from tensorflow.keras.preprocessing.sequence import pad_sequences"
   ]
  },
  {
   "cell_type": "code",
   "execution_count": 58,
   "id": "1527a849",
   "metadata": {},
   "outputs": [],
   "source": [
    "from nltk import pos_tag\n",
    "import matplotlib.pyplot as plt"
   ]
  },
  {
   "cell_type": "code",
   "execution_count": 2,
   "id": "a5f5ae28",
   "metadata": {},
   "outputs": [],
   "source": [
    "from FairyTail.data import GetData"
   ]
  },
  {
   "cell_type": "code",
   "execution_count": 3,
   "id": "83f81240",
   "metadata": {},
   "outputs": [
    {
     "data": {
      "text/plain": [
       "(65200, 65200)"
      ]
     },
     "execution_count": 3,
     "metadata": {},
     "output_type": "execute_result"
    }
   ],
   "source": [
    "X, y = GetData().get()\n",
    "len(X), len(y)"
   ]
  },
  {
   "cell_type": "markdown",
   "id": "f9f960dc",
   "metadata": {},
   "source": [
    "## Let's change y to it's POS tag"
   ]
  },
  {
   "cell_type": "code",
   "execution_count": 10,
   "id": "931031ae",
   "metadata": {},
   "outputs": [
    {
     "data": {
      "text/plain": [
       "[('love', 'NN'), ('big', 'JJ'), ('lovely', 'RB'), ('loving', 'VBG')]"
      ]
     },
     "execution_count": 10,
     "metadata": {},
     "output_type": "execute_result"
    }
   ],
   "source": [
    "pos_tag([\"love\", \"big\", \"lovely\", \"loving\"])"
   ]
  },
  {
   "cell_type": "code",
   "execution_count": 14,
   "id": "392b7f90",
   "metadata": {},
   "outputs": [
    {
     "data": {
      "text/plain": [
       "['the', 'from', 'a', 'movie']"
      ]
     },
     "execution_count": 14,
     "metadata": {},
     "output_type": "execute_result"
    }
   ],
   "source": [
    "y[:4]"
   ]
  },
  {
   "cell_type": "code",
   "execution_count": 20,
   "id": "bed522a4",
   "metadata": {},
   "outputs": [],
   "source": [
    "y_tags = [x[1] for x in pos_tag(y)]"
   ]
  },
  {
   "cell_type": "code",
   "execution_count": 22,
   "id": "516f3982",
   "metadata": {},
   "outputs": [
    {
     "data": {
      "text/plain": [
       "32"
      ]
     },
     "execution_count": 22,
     "metadata": {},
     "output_type": "execute_result"
    }
   ],
   "source": [
    "len(set(y_tags))"
   ]
  },
  {
   "cell_type": "code",
   "execution_count": 24,
   "id": "5b692885",
   "metadata": {},
   "outputs": [
    {
     "data": {
      "text/plain": [
       "{'DT': 2867,\n",
       " 'IN': 5376,\n",
       " 'NN': 14284,\n",
       " 'PRP': 2214,\n",
       " 'WRB': 800,\n",
       " 'VBZ': 2269,\n",
       " 'CC': 730,\n",
       " 'VBN': 1475,\n",
       " 'PRP$': 1382,\n",
       " 'VB': 2009,\n",
       " 'VBG': 2053,\n",
       " 'JJ': 8619,\n",
       " 'VBD': 2127,\n",
       " 'WP': 400,\n",
       " 'RP': 573,\n",
       " 'VBP': 2646,\n",
       " 'NNS': 3019,\n",
       " 'RB': 8055,\n",
       " 'RBS': 118,\n",
       " 'CD': 996,\n",
       " 'MD': 1600,\n",
       " 'TO': 200,\n",
       " 'JJR': 192,\n",
       " 'WDT': 244,\n",
       " 'RBR': 247,\n",
       " 'JJS': 550,\n",
       " 'PDT': 8,\n",
       " 'FW': 9,\n",
       " 'EX': 134,\n",
       " 'UH': 1,\n",
       " 'NNP': 1,\n",
       " '$': 2}"
      ]
     },
     "execution_count": 24,
     "metadata": {},
     "output_type": "execute_result"
    }
   ],
   "source": [
    "y_tags_dic = {}\n",
    "for tag in y_tags:\n",
    "    if tag not in y_tags_dic:\n",
    "        y_tags_dic[tag] = 1\n",
    "    else:\n",
    "        y_tags_dic[tag] += 1\n",
    "y_tags_dic"
   ]
  },
  {
   "cell_type": "code",
   "execution_count": 29,
   "id": "0198df6d",
   "metadata": {},
   "outputs": [
    {
     "data": {
      "text/html": [
       "<div>\n",
       "<style scoped>\n",
       "    .dataframe tbody tr th:only-of-type {\n",
       "        vertical-align: middle;\n",
       "    }\n",
       "\n",
       "    .dataframe tbody tr th {\n",
       "        vertical-align: top;\n",
       "    }\n",
       "\n",
       "    .dataframe thead th {\n",
       "        text-align: right;\n",
       "    }\n",
       "</style>\n",
       "<table border=\"1\" class=\"dataframe\">\n",
       "  <thead>\n",
       "    <tr style=\"text-align: right;\">\n",
       "      <th></th>\n",
       "      <th>tag</th>\n",
       "      <th>count</th>\n",
       "    </tr>\n",
       "  </thead>\n",
       "  <tbody>\n",
       "    <tr>\n",
       "      <th>2</th>\n",
       "      <td>NN</td>\n",
       "      <td>14284</td>\n",
       "    </tr>\n",
       "    <tr>\n",
       "      <th>11</th>\n",
       "      <td>JJ</td>\n",
       "      <td>8619</td>\n",
       "    </tr>\n",
       "    <tr>\n",
       "      <th>17</th>\n",
       "      <td>RB</td>\n",
       "      <td>8055</td>\n",
       "    </tr>\n",
       "    <tr>\n",
       "      <th>1</th>\n",
       "      <td>IN</td>\n",
       "      <td>5376</td>\n",
       "    </tr>\n",
       "    <tr>\n",
       "      <th>16</th>\n",
       "      <td>NNS</td>\n",
       "      <td>3019</td>\n",
       "    </tr>\n",
       "  </tbody>\n",
       "</table>\n",
       "</div>"
      ],
      "text/plain": [
       "    tag  count\n",
       "2    NN  14284\n",
       "11   JJ   8619\n",
       "17   RB   8055\n",
       "1    IN   5376\n",
       "16  NNS   3019"
      ]
     },
     "execution_count": 29,
     "metadata": {},
     "output_type": "execute_result"
    }
   ],
   "source": [
    "df_tag = pd.DataFrame(y_tags_dic.items()).rename(columns={0 : \"tag\", 1 : \"count\"}).sort_values(by=\"count\", ascending=False)\n",
    "df_tag.head()"
   ]
  },
  {
   "cell_type": "code",
   "execution_count": 43,
   "id": "c98a1c15",
   "metadata": {},
   "outputs": [
    {
     "data": {
      "text/html": [
       "<div>\n",
       "<style scoped>\n",
       "    .dataframe tbody tr th:only-of-type {\n",
       "        vertical-align: middle;\n",
       "    }\n",
       "\n",
       "    .dataframe tbody tr th {\n",
       "        vertical-align: top;\n",
       "    }\n",
       "\n",
       "    .dataframe thead th {\n",
       "        text-align: right;\n",
       "    }\n",
       "</style>\n",
       "<table border=\"1\" class=\"dataframe\">\n",
       "  <thead>\n",
       "    <tr style=\"text-align: right;\">\n",
       "      <th></th>\n",
       "      <th>tag</th>\n",
       "      <th>count</th>\n",
       "    </tr>\n",
       "  </thead>\n",
       "  <tbody>\n",
       "    <tr>\n",
       "      <th>23</th>\n",
       "      <td>WDT</td>\n",
       "      <td>244</td>\n",
       "    </tr>\n",
       "    <tr>\n",
       "      <th>21</th>\n",
       "      <td>TO</td>\n",
       "      <td>200</td>\n",
       "    </tr>\n",
       "    <tr>\n",
       "      <th>22</th>\n",
       "      <td>JJR</td>\n",
       "      <td>192</td>\n",
       "    </tr>\n",
       "    <tr>\n",
       "      <th>28</th>\n",
       "      <td>EX</td>\n",
       "      <td>134</td>\n",
       "    </tr>\n",
       "    <tr>\n",
       "      <th>18</th>\n",
       "      <td>RBS</td>\n",
       "      <td>118</td>\n",
       "    </tr>\n",
       "    <tr>\n",
       "      <th>27</th>\n",
       "      <td>FW</td>\n",
       "      <td>9</td>\n",
       "    </tr>\n",
       "    <tr>\n",
       "      <th>26</th>\n",
       "      <td>PDT</td>\n",
       "      <td>8</td>\n",
       "    </tr>\n",
       "    <tr>\n",
       "      <th>31</th>\n",
       "      <td>$</td>\n",
       "      <td>2</td>\n",
       "    </tr>\n",
       "    <tr>\n",
       "      <th>29</th>\n",
       "      <td>UH</td>\n",
       "      <td>1</td>\n",
       "    </tr>\n",
       "    <tr>\n",
       "      <th>30</th>\n",
       "      <td>NNP</td>\n",
       "      <td>1</td>\n",
       "    </tr>\n",
       "  </tbody>\n",
       "</table>\n",
       "</div>"
      ],
      "text/plain": [
       "    tag  count\n",
       "23  WDT    244\n",
       "21   TO    200\n",
       "22  JJR    192\n",
       "28   EX    134\n",
       "18  RBS    118\n",
       "27   FW      9\n",
       "26  PDT      8\n",
       "31    $      2\n",
       "29   UH      1\n",
       "30  NNP      1"
      ]
     },
     "execution_count": 43,
     "metadata": {},
     "output_type": "execute_result"
    }
   ],
   "source": [
    "df_tag.tail(10)"
   ]
  },
  {
   "cell_type": "code",
   "execution_count": 47,
   "id": "f6029291",
   "metadata": {},
   "outputs": [],
   "source": [
    "df_tag = df_tag.head(27)"
   ]
  },
  {
   "cell_type": "code",
   "execution_count": 50,
   "id": "97a81ae2",
   "metadata": {},
   "outputs": [
    {
     "data": {
      "image/png": "[encoded data removed]",
      "text/plain": [
       "<Figure size 432x288 with 1 Axes>"
      ]
     },
     "metadata": {
      "needs_background": "light"
     },
     "output_type": "display_data"
    }
   ],
   "source": [
    "#plt.ylim([0,500])\n",
    "sns.barplot(data=df_tag, x=\"tag\", y=\"count\");"
   ]
  },
  {
   "cell_type": "code",
   "execution_count": 52,
   "id": "c6e5144b",
   "metadata": {},
   "outputs": [
    {
     "data": {
      "text/plain": [
       "65200"
      ]
     },
     "execution_count": 52,
     "metadata": {},
     "output_type": "execute_result"
    }
   ],
   "source": [
    "len(y_tags)"
   ]
  },
  {
   "cell_type": "code",
   "execution_count": 67,
   "id": "b1916cfa",
   "metadata": {},
   "outputs": [],
   "source": [
    "tags_filtered = df_tag[\"tag\"].tolist()"
   ]
  },
  {
   "cell_type": "code",
   "execution_count": 68,
   "id": "9fa93d96",
   "metadata": {},
   "outputs": [
    {
     "data": {
      "text/plain": [
       "27"
      ]
     },
     "execution_count": 68,
     "metadata": {},
     "output_type": "execute_result"
    }
   ],
   "source": [
    "len(tags_filtered)"
   ]
  },
  {
   "cell_type": "code",
   "execution_count": 80,
   "id": "897dc1a4",
   "metadata": {},
   "outputs": [],
   "source": [
    "y_encoded = np.zeros([len(y_tags), len(tags_filtered) + 1])\n",
    "for idx, tag in enumerate(y_tags):\n",
    "    if tag in tags_filtered:\n",
    "        y_encoded[idx, tags_filtered.index(tag)] = 1\n",
    "    else:\n",
    "        y_encoded[idx, -1] = 1"
   ]
  },
  {
   "cell_type": "code",
   "execution_count": 81,
   "id": "8826ca64",
   "metadata": {},
   "outputs": [
    {
     "data": {
      "text/plain": [
       "array([[0., 0., 0., ..., 0., 0., 0.],\n",
       "       [0., 0., 0., ..., 0., 0., 0.],\n",
       "       [0., 0., 0., ..., 0., 0., 0.],\n",
       "       ...,\n",
       "       [0., 0., 0., ..., 0., 0., 0.],\n",
       "       [1., 0., 0., ..., 0., 0., 0.],\n",
       "       [1., 0., 0., ..., 0., 0., 0.]])"
      ]
     },
     "execution_count": 81,
     "metadata": {},
     "output_type": "execute_result"
    }
   ],
   "source": [
    "y_encoded"
   ]
  },
  {
   "cell_type": "markdown",
   "id": "c1af01cf",
   "metadata": {},
   "source": [
    "## Let's train a model with y_tags instead of y (yes, I know, y_tags is not balanced yet)"
   ]
  },
  {
   "cell_type": "code",
   "execution_count": 83,
   "id": "4926f0b1",
   "metadata": {},
   "outputs": [],
   "source": [
    "# let's us a pre-trained word2vec\n",
    "word2vec = api.load(\"glove-wiki-gigaword-50\")\n",
    "wv = word2vec"
   ]
  },
  {
   "cell_type": "code",
   "execution_count": 84,
   "id": "64830377",
   "metadata": {},
   "outputs": [
    {
     "data": {
      "text/plain": [
       "400000"
      ]
     },
     "execution_count": 84,
     "metadata": {},
     "output_type": "execute_result"
    }
   ],
   "source": [
    "vocab_size = len(wv.key_to_index)\n",
    "vocab_size"
   ]
  },
  {
   "cell_type": "code",
   "execution_count": 85,
   "id": "c733b399",
   "metadata": {},
   "outputs": [],
   "source": [
    "# let's check if all words in y are in word2vec\n",
    "assert(False not in [word in wv for word in y])"
   ]
  },
  {
   "cell_type": "code",
   "execution_count": 86,
   "id": "7da47b22",
   "metadata": {},
   "outputs": [],
   "source": [
    "# train test split\n",
    "X_train, X_test, y_train, y_test = train_test_split(X, y_encoded, test_size=0.3)"
   ]
  },
  {
   "cell_type": "code",
   "execution_count": 87,
   "id": "4b9ec84b",
   "metadata": {},
   "outputs": [],
   "source": [
    "# Function to convert a sentence (list of words) into a matrix representing the words in the embedding space\n",
    "def embed_sentence_with_TF(word2vec, sentence):\n",
    "    embedded_sentence = []\n",
    "    for word in sentence:\n",
    "        if word in word2vec:\n",
    "            embedded_sentence.append(word2vec[word])\n",
    "        \n",
    "    return np.array(embedded_sentence)\n",
    "\n",
    "# Function that converts a list of sentences into a list of matrices\n",
    "def embedding(word2vec, sentences):\n",
    "    embed = []\n",
    "    \n",
    "    for sentence in sentences:\n",
    "        embedded_sentence = embed_sentence_with_TF(word2vec, sentence)\n",
    "        embed.append(embedded_sentence)\n",
    "        \n",
    "    return embed\n",
    "\n",
    "# Embed and pad the training and test sentences\n",
    "X_train_pad = pad_sequences(embedding(word2vec, X_train), dtype='float32', padding='post', maxlen=20)\n",
    "X_test_pad = pad_sequences(embedding(word2vec, X_test), dtype='float32', padding='post', maxlen=20)"
   ]
  },
  {
   "cell_type": "code",
   "execution_count": 88,
   "id": "bb55f735",
   "metadata": {},
   "outputs": [
    {
     "data": {
      "text/plain": [
       "((45640, 20, 50), (19560, 20, 50))"
      ]
     },
     "execution_count": 88,
     "metadata": {},
     "output_type": "execute_result"
    }
   ],
   "source": [
    "# check the shape of the padded data\n",
    "X_train_pad.shape, X_test_pad.shape"
   ]
  },
  {
   "cell_type": "code",
   "execution_count": 89,
   "id": "03d8257d",
   "metadata": {},
   "outputs": [
    {
     "data": {
      "text/plain": [
       "(45640, 28)"
      ]
     },
     "execution_count": 89,
     "metadata": {},
     "output_type": "execute_result"
    }
   ],
   "source": [
    "y_train.shape"
   ]
  },
  {
   "cell_type": "code",
   "execution_count": 90,
   "id": "1f60c6b8",
   "metadata": {},
   "outputs": [
    {
     "name": "stderr",
     "output_type": "stream",
     "text": [
      "2022-07-05 13:58:02.699301: W tensorflow/stream_executor/platform/default/dso_loader.cc:64] Could not load dynamic library 'libcuda.so.1'; dlerror: libcuda.so.1: cannot open shared object file: No such file or directory\n",
      "2022-07-05 13:58:02.699339: W tensorflow/stream_executor/cuda/cuda_driver.cc:269] failed call to cuInit: UNKNOWN ERROR (303)\n",
      "2022-07-05 13:58:02.699368: I tensorflow/stream_executor/cuda/cuda_diagnostics.cc:156] kernel driver does not appear to be running on this host (think): /proc/driver/nvidia/version does not exist\n",
      "2022-07-05 13:58:02.700856: I tensorflow/core/platform/cpu_feature_guard.cc:193] This TensorFlow binary is optimized with oneAPI Deep Neural Network Library (oneDNN) to use the following CPU instructions in performance-critical operations:  AVX2 FMA\n",
      "To enable them in other operations, rebuild TensorFlow with the appropriate compiler flags.\n"
     ]
    }
   ],
   "source": [
    "# build a model\n",
    "def init_model():\n",
    "    model = Sequential()\n",
    "    model.add(Masking())\n",
    "    model.add(SimpleRNN(50, activation=\"tanh\", return_sequences=True))\n",
    "    model.add(SimpleRNN(16, activation=\"tanh\", return_sequences=False))\n",
    "    model.add(Dense(16, activation=\"relu\"))\n",
    "    model.add(Dense(28, activation=\"softmax\"))\n",
    "\n",
    "    model.compile(loss=\"categorical_crossentropy\",\n",
    "                  optimizer=\"rmsprop\",\n",
    "                  metrics=[\"accuracy\"])\n",
    "    \n",
    "    return model\n",
    "\n",
    "model = init_model()"
   ]
  },
  {
   "cell_type": "code",
   "execution_count": 91,
   "id": "ab3dc53e",
   "metadata": {},
   "outputs": [
    {
     "name": "stdout",
     "output_type": "stream",
     "text": [
      "Epoch 1/100\n"
     ]
    },
    {
     "name": "stderr",
     "output_type": "stream",
     "text": [
      "2022-07-05 13:58:38.902426: W tensorflow/core/framework/cpu_allocator_impl.cc:82] Allocation of 127788000 exceeds 10% of free system memory.\n"
     ]
    },
    {
     "name": "stdout",
     "output_type": "stream",
     "text": [
      "1992/1997 [============================>.] - ETA: 0s - loss: 2.6583 - accuracy: 0.2220"
     ]
    },
    {
     "name": "stderr",
     "output_type": "stream",
     "text": [
      "2022-07-05 13:58:59.134199: W tensorflow/core/framework/cpu_allocator_impl.cc:82] Allocation of 54772000 exceeds 10% of free system memory.\n"
     ]
    },
    {
     "name": "stdout",
     "output_type": "stream",
     "text": [
      "1997/1997 [==============================] - 23s 10ms/step - loss: 2.6577 - accuracy: 0.2221 - val_loss: 2.5569 - val_accuracy: 0.2310\n",
      "Epoch 2/100\n",
      "1997/1997 [==============================] - 21s 10ms/step - loss: 2.5130 - accuracy: 0.2457 - val_loss: 2.5110 - val_accuracy: 0.2433\n",
      "Epoch 3/100\n",
      "1997/1997 [==============================] - 21s 10ms/step - loss: 2.4625 - accuracy: 0.2568 - val_loss: 2.4761 - val_accuracy: 0.2451\n",
      "Epoch 4/100\n",
      "1997/1997 [==============================] - 21s 11ms/step - loss: 2.4384 - accuracy: 0.2595 - val_loss: 2.4506 - val_accuracy: 0.2506\n",
      "Epoch 5/100\n",
      "1997/1997 [==============================] - 21s 10ms/step - loss: 2.4229 - accuracy: 0.2643 - val_loss: 2.4494 - val_accuracy: 0.2526\n",
      "Epoch 6/100\n",
      "1997/1997 [==============================] - 21s 10ms/step - loss: 2.4077 - accuracy: 0.2696 - val_loss: 2.4545 - val_accuracy: 0.2518\n",
      "Epoch 7/100\n",
      "1997/1997 [==============================] - 21s 10ms/step - loss: 2.3957 - accuracy: 0.2717 - val_loss: 2.4382 - val_accuracy: 0.2512\n",
      "Epoch 8/100\n",
      "1997/1997 [==============================] - 21s 11ms/step - loss: 2.3864 - accuracy: 0.2748 - val_loss: 2.4426 - val_accuracy: 0.2523\n",
      "Epoch 9/100\n",
      "1997/1997 [==============================] - 23s 11ms/step - loss: 2.3780 - accuracy: 0.2761 - val_loss: 2.4542 - val_accuracy: 0.2546\n",
      "Epoch 10/100\n",
      "1997/1997 [==============================] - 21s 11ms/step - loss: 2.3701 - accuracy: 0.2809 - val_loss: 2.4641 - val_accuracy: 0.2564\n"
     ]
    }
   ],
   "source": [
    "es = EarlyStopping(patience=3, restore_best_weights=True)\n",
    "\n",
    "history = model.fit(X_train_pad,\n",
    "                    y_train, \n",
    "                    batch_size = 16,\n",
    "                    epochs=100,\n",
    "                    validation_split=0.3,\n",
    "                    callbacks=[es])"
   ]
  },
  {
   "cell_type": "code",
   "execution_count": 92,
   "id": "e530edb3",
   "metadata": {},
   "outputs": [
    {
     "data": {
      "image/png": "[encoded data removed]",
      "text/plain": [
       "<Figure size 432x288 with 1 Axes>"
      ]
     },
     "metadata": {
      "needs_background": "light"
     },
     "output_type": "display_data"
    }
   ],
   "source": [
    "history_df = pd.DataFrame({\n",
    "    \"epoch\" : history.epoch,\n",
    "    \"accuracy\" : history.history[\"accuracy\"],\n",
    "    \"val_accuracy\" : history.history[\"val_accuracy\"]\n",
    "})\n",
    "sns.lineplot(data=history_df, x=\"epoch\", y=\"accuracy\");\n",
    "sns.lineplot(data=history_df, x=\"epoch\", y=\"val_accuracy\");"
   ]
  },
  {
   "cell_type": "code",
   "execution_count": null,
   "id": "05fb1ce2",
   "metadata": {},
   "outputs": [],
   "source": []
  }
 ],
 "metadata": {
  "kernelspec": {
   "display_name": "Python 3 (ipykernel)",
   "language": "python",
   "name": "python3"
  },
  "language_info": {
   "codemirror_mode": {
    "name": "ipython",
    "version": 3
   },
   "file_extension": ".py",
   "mimetype": "text/x-python",
   "name": "python",
   "nbconvert_exporter": "python",
   "pygments_lexer": "ipython3",
   "version": "3.8.12"
  },
  "toc": {
   "base_numbering": 1,
   "nav_menu": {},
   "number_sections": true,
   "sideBar": true,
   "skip_h1_title": false,
   "title_cell": "Table of Contents",
   "title_sidebar": "Contents",
   "toc_cell": false,
   "toc_position": {},
   "toc_section_display": true,
   "toc_window_display": false
  },
  "varInspector": {
   "cols": {
    "lenName": 16,
    "lenType": 16,
    "lenVar": 40
   },
   "kernels_config": {
    "python": {
     "delete_cmd_postfix": "",
     "delete_cmd_prefix": "del ",
     "library": "var_list.py",
     "varRefreshCmd": "print(var_dic_list())"
    },
    "r": {
     "delete_cmd_postfix": ") ",
     "delete_cmd_prefix": "rm(",
     "library": "var_list.r",
     "varRefreshCmd": "cat(var_dic_list()) "
    }
   },
   "types_to_exclude": [
    "module",
    "function",
    "builtin_function_or_method",
    "instance",
    "_Feature"
   ],
   "window_display": false
  }
 },
 "nbformat": 4,
 "nbformat_minor": 5
}
