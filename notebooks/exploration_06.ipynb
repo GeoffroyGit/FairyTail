{
 "cells": [
  {
   "cell_type": "code",
   "execution_count": 1,
   "id": "796ac9ad",
   "metadata": {},
   "outputs": [
    {
     "name": "stderr",
     "output_type": "stream",
     "text": [
      "2022-06-30 09:29:48.690943: W tensorflow/stream_executor/platform/default/dso_loader.cc:64] Could not load dynamic library 'libcudart.so.11.0'; dlerror: libcudart.so.11.0: cannot open shared object file: No such file or directory\n",
      "2022-06-30 09:29:48.691016: I tensorflow/stream_executor/cuda/cudart_stub.cc:29] Ignore above cudart dlerror if you do not have a GPU set up on your machine.\n"
     ]
    }
   ],
   "source": [
    "import numpy as np\n",
    "import pandas as pd\n",
    "import seaborn as sns\n",
    "from sklearn.model_selection import train_test_split\n",
    "from gensim.models import Word2Vec\n",
    "import gensim.downloader as api\n",
    "from tensorflow.keras import Sequential\n",
    "from tensorflow.keras.layers import Masking, Dense, LSTM, GRU, SimpleRNN\n",
    "from tensorflow.keras.callbacks import EarlyStopping\n",
    "from tensorflow.keras.preprocessing.sequence import pad_sequences"
   ]
  },
  {
   "cell_type": "code",
   "execution_count": 2,
   "id": "3ec8e503",
   "metadata": {},
   "outputs": [],
   "source": [
    "from FairyTail.data import GetData"
   ]
  },
  {
   "cell_type": "code",
   "execution_count": 3,
   "id": "8b6eb799",
   "metadata": {},
   "outputs": [],
   "source": [
    "X, y = GetData().get()"
   ]
  },
  {
   "cell_type": "code",
   "execution_count": 4,
   "id": "e78b2464",
   "metadata": {},
   "outputs": [
    {
     "data": {
      "text/plain": [
       "(65200, 65200)"
      ]
     },
     "execution_count": 4,
     "metadata": {},
     "output_type": "execute_result"
    }
   ],
   "source": [
    "len(X), len(y)"
   ]
  },
  {
   "cell_type": "markdown",
   "id": "e5f1a878",
   "metadata": {},
   "source": [
    "## Let's make sure there are enough information in X for the model to be able to learn"
   ]
  },
  {
   "cell_type": "code",
   "execution_count": 6,
   "id": "584ee1a3",
   "metadata": {},
   "outputs": [],
   "source": [
    "# let's try when y is the last word in X\n",
    "for i in range(len(X)):\n",
    "    X[i].append(y[i])"
   ]
  },
  {
   "cell_type": "code",
   "execution_count": 8,
   "id": "b2d6a99c",
   "metadata": {},
   "outputs": [
    {
     "data": {
      "text/plain": [
       "(['king',\n",
       "  'and',\n",
       "  'stick',\n",
       "  'it',\n",
       "  'down',\n",
       "  'in',\n",
       "  'the',\n",
       "  'kiddie',\n",
       "  'section',\n",
       "  'thats',\n",
       "  'where',\n",
       "  'it',\n",
       "  'belongs',\n",
       "  'this',\n",
       "  'movie',\n",
       "  'rates',\n",
       "  'a',\n",
       "  '9',\n",
       "  '98',\n",
       "  'from',\n",
       "  'the'],\n",
       " 'the')"
      ]
     },
     "execution_count": 8,
     "metadata": {},
     "output_type": "execute_result"
    }
   ],
   "source": [
    "X[0], y[0]"
   ]
  },
  {
   "cell_type": "markdown",
   "id": "43e59c0a",
   "metadata": {},
   "source": [
    "## from here, continue as usual"
   ]
  },
  {
   "cell_type": "code",
   "execution_count": 10,
   "id": "21d404a0",
   "metadata": {},
   "outputs": [],
   "source": [
    "# let's us a pre-trained word2vec\n",
    "word2vec = api.load(\"glove-wiki-gigaword-50\")\n",
    "wv = word2vec"
   ]
  },
  {
   "cell_type": "code",
   "execution_count": 11,
   "id": "a655970a",
   "metadata": {},
   "outputs": [
    {
     "data": {
      "text/plain": [
       "400000"
      ]
     },
     "execution_count": 11,
     "metadata": {},
     "output_type": "execute_result"
    }
   ],
   "source": [
    "vocab_size = len(wv.key_to_index)\n",
    "vocab_size"
   ]
  },
  {
   "cell_type": "code",
   "execution_count": 12,
   "id": "93aa71b3",
   "metadata": {},
   "outputs": [],
   "source": [
    "# let's check if all words in y are in word2vec\n",
    "assert(False not in [word in wv for word in y])"
   ]
  },
  {
   "cell_type": "code",
   "execution_count": 13,
   "id": "e88454df",
   "metadata": {},
   "outputs": [],
   "source": [
    "# train test split\n",
    "X_train, X_test, y_train, y_test = train_test_split(X, y, test_size=0.3)"
   ]
  },
  {
   "cell_type": "code",
   "execution_count": 14,
   "id": "907e2cac",
   "metadata": {},
   "outputs": [],
   "source": [
    "# Function to convert a sentence (list of words) into a matrix representing the words in the embedding space\n",
    "def embed_sentence_with_TF(word2vec, sentence):\n",
    "    embedded_sentence = []\n",
    "    for word in sentence:\n",
    "        if word in word2vec:\n",
    "            embedded_sentence.append(word2vec[word])\n",
    "        \n",
    "    return np.array(embedded_sentence)\n",
    "\n",
    "# Function that converts a list of sentences into a list of matrices\n",
    "def embedding(word2vec, sentences):\n",
    "    embed = []\n",
    "    \n",
    "    for sentence in sentences:\n",
    "        embedded_sentence = embed_sentence_with_TF(word2vec, sentence)\n",
    "        embed.append(embedded_sentence)\n",
    "        \n",
    "    return embed\n",
    "\n",
    "# Embed and pad the training and test sentences\n",
    "X_train_pad = pad_sequences(embedding(word2vec, X_train), dtype='float32', padding='post', maxlen=20)\n",
    "X_test_pad = pad_sequences(embedding(word2vec, X_test), dtype='float32', padding='post', maxlen=20)"
   ]
  },
  {
   "cell_type": "code",
   "execution_count": 15,
   "id": "438c86aa",
   "metadata": {},
   "outputs": [
    {
     "data": {
      "text/plain": [
       "((45640, 20, 50), (19560, 20, 50))"
      ]
     },
     "execution_count": 15,
     "metadata": {},
     "output_type": "execute_result"
    }
   ],
   "source": [
    "# check the shape of the padded data\n",
    "X_train_pad.shape, X_test_pad.shape"
   ]
  },
  {
   "cell_type": "code",
   "execution_count": 16,
   "id": "ca6172e8",
   "metadata": {},
   "outputs": [],
   "source": [
    "# transform y_train and y_test into vectors\n",
    "y_train_vec = np.array([wv[word] for word in y_train])\n",
    "y_test_vec = np.array([wv[word] for word in y_test])"
   ]
  },
  {
   "cell_type": "code",
   "execution_count": 17,
   "id": "a62d1c6b",
   "metadata": {},
   "outputs": [
    {
     "data": {
      "text/plain": [
       "((45640, 50), (19560, 50))"
      ]
     },
     "execution_count": 17,
     "metadata": {},
     "output_type": "execute_result"
    }
   ],
   "source": [
    "# check the shape of the target data\n",
    "y_train_vec.shape, y_test_vec.shape"
   ]
  },
  {
   "cell_type": "code",
   "execution_count": 18,
   "id": "a59c0008",
   "metadata": {},
   "outputs": [
    {
     "name": "stderr",
     "output_type": "stream",
     "text": [
      "2022-06-30 09:35:38.544684: W tensorflow/stream_executor/platform/default/dso_loader.cc:64] Could not load dynamic library 'libcuda.so.1'; dlerror: libcuda.so.1: cannot open shared object file: No such file or directory\n",
      "2022-06-30 09:35:38.544716: W tensorflow/stream_executor/cuda/cuda_driver.cc:269] failed call to cuInit: UNKNOWN ERROR (303)\n",
      "2022-06-30 09:35:38.544738: I tensorflow/stream_executor/cuda/cuda_diagnostics.cc:156] kernel driver does not appear to be running on this host (think): /proc/driver/nvidia/version does not exist\n",
      "2022-06-30 09:35:38.545540: I tensorflow/core/platform/cpu_feature_guard.cc:193] This TensorFlow binary is optimized with oneAPI Deep Neural Network Library (oneDNN) to use the following CPU instructions in performance-critical operations:  AVX2 FMA\n",
      "To enable them in other operations, rebuild TensorFlow with the appropriate compiler flags.\n"
     ]
    }
   ],
   "source": [
    "# build a model\n",
    "def init_model():\n",
    "    model = Sequential()\n",
    "    model.add(Masking())\n",
    "    model.add(SimpleRNN(50, activation=\"tanh\", return_sequences=True))\n",
    "    model.add(SimpleRNN(16, activation=\"tanh\", return_sequences=False))\n",
    "    model.add(Dense(16, activation=\"relu\"))\n",
    "    model.add(Dense(50, activation=\"linear\"))\n",
    "\n",
    "    model.compile(loss='mae',\n",
    "                  optimizer='rmsprop',\n",
    "                  metrics=['mse'])\n",
    "    \n",
    "    return model\n",
    "\n",
    "model = init_model()"
   ]
  },
  {
   "cell_type": "code",
   "execution_count": 19,
   "id": "5a823eeb",
   "metadata": {},
   "outputs": [
    {
     "name": "stdout",
     "output_type": "stream",
     "text": [
      "Epoch 1/100\n",
      "1997/1997 [==============================] - 23s 11ms/step - loss: 0.2729 - mse: 0.1454 - val_loss: 0.2250 - val_mse: 0.0928\n",
      "Epoch 2/100\n",
      "1997/1997 [==============================] - 20s 10ms/step - loss: 0.2076 - mse: 0.0819 - val_loss: 0.1959 - val_mse: 0.0743\n",
      "Epoch 3/100\n",
      "1997/1997 [==============================] - 20s 10ms/step - loss: 0.1878 - mse: 0.0697 - val_loss: 0.1897 - val_mse: 0.0694\n",
      "Epoch 4/100\n",
      "1997/1997 [==============================] - 20s 10ms/step - loss: 0.1799 - mse: 0.0652 - val_loss: 0.1788 - val_mse: 0.0642\n",
      "Epoch 5/100\n",
      "1997/1997 [==============================] - 21s 10ms/step - loss: 0.1748 - mse: 0.0626 - val_loss: 0.1740 - val_mse: 0.0618\n",
      "Epoch 6/100\n",
      "1997/1997 [==============================] - 20s 10ms/step - loss: 0.1716 - mse: 0.0609 - val_loss: 0.1706 - val_mse: 0.0604\n",
      "Epoch 7/100\n",
      "1997/1997 [==============================] - 20s 10ms/step - loss: 0.1697 - mse: 0.0602 - val_loss: 0.1679 - val_mse: 0.0596\n",
      "Epoch 8/100\n",
      "1997/1997 [==============================] - 22s 11ms/step - loss: 0.1685 - mse: 0.0598 - val_loss: 0.1705 - val_mse: 0.0609\n",
      "Epoch 9/100\n",
      "1997/1997 [==============================] - 21s 11ms/step - loss: 0.1676 - mse: 0.0596 - val_loss: 0.1672 - val_mse: 0.0596\n",
      "Epoch 10/100\n",
      "1997/1997 [==============================] - 21s 10ms/step - loss: 0.1667 - mse: 0.0594 - val_loss: 0.1670 - val_mse: 0.0595\n",
      "Epoch 11/100\n",
      "1997/1997 [==============================] - 21s 10ms/step - loss: 0.1657 - mse: 0.0591 - val_loss: 0.1670 - val_mse: 0.0596\n",
      "Epoch 12/100\n",
      "1997/1997 [==============================] - 21s 10ms/step - loss: 0.1651 - mse: 0.0590 - val_loss: 0.1664 - val_mse: 0.0594\n",
      "Epoch 13/100\n",
      "1997/1997 [==============================] - 21s 10ms/step - loss: 0.1645 - mse: 0.0589 - val_loss: 0.1663 - val_mse: 0.0593\n",
      "Epoch 14/100\n",
      "1997/1997 [==============================] - 21s 10ms/step - loss: 0.1639 - mse: 0.0588 - val_loss: 0.1648 - val_mse: 0.0593\n",
      "Epoch 15/100\n",
      "1997/1997 [==============================] - 21s 10ms/step - loss: 0.1633 - mse: 0.0587 - val_loss: 0.1640 - val_mse: 0.0590\n",
      "Epoch 16/100\n",
      "1997/1997 [==============================] - 21s 10ms/step - loss: 0.1628 - mse: 0.0586 - val_loss: 0.1633 - val_mse: 0.0588\n",
      "Epoch 17/100\n",
      "1997/1997 [==============================] - 21s 10ms/step - loss: 0.1623 - mse: 0.0584 - val_loss: 0.1635 - val_mse: 0.0589\n",
      "Epoch 18/100\n",
      "1997/1997 [==============================] - 21s 10ms/step - loss: 0.1618 - mse: 0.0583 - val_loss: 0.1615 - val_mse: 0.0580\n",
      "Epoch 19/100\n",
      "1997/1997 [==============================] - 21s 10ms/step - loss: 0.1614 - mse: 0.0583 - val_loss: 0.1621 - val_mse: 0.0585\n",
      "Epoch 20/100\n",
      "1997/1997 [==============================] - 21s 10ms/step - loss: 0.1611 - mse: 0.0583 - val_loss: 0.1626 - val_mse: 0.0585\n",
      "Epoch 21/100\n",
      "1997/1997 [==============================] - 21s 10ms/step - loss: 0.1608 - mse: 0.0583 - val_loss: 0.1620 - val_mse: 0.0586\n"
     ]
    }
   ],
   "source": [
    "es = EarlyStopping(patience=3, restore_best_weights=True)\n",
    "\n",
    "history = model.fit(X_train_pad,\n",
    "                    y_train_vec, \n",
    "                    batch_size = 16,\n",
    "                    epochs=100,\n",
    "                    validation_split=0.3,\n",
    "                    callbacks=[es])"
   ]
  },
  {
   "cell_type": "code",
   "execution_count": 20,
   "id": "d24dfeb5",
   "metadata": {},
   "outputs": [
    {
     "data": {
      "image/png": "[encoded data removed]",
      "text/plain": [
       "<Figure size 432x288 with 1 Axes>"
      ]
     },
     "metadata": {
      "needs_background": "light"
     },
     "output_type": "display_data"
    }
   ],
   "source": [
    "history_df = pd.DataFrame({\n",
    "    \"epoch\" : history.epoch,\n",
    "    \"loss\" : history.history[\"loss\"],\n",
    "    \"val_loss\" : history.history[\"val_loss\"]\n",
    "})\n",
    "sns.lineplot(data=history_df, x=\"epoch\", y=\"loss\");\n",
    "sns.lineplot(data=history_df, x=\"epoch\", y=\"val_loss\");"
   ]
  },
  {
   "cell_type": "markdown",
   "id": "0a09558e",
   "metadata": {},
   "source": [
    "## As we can see, when there's enough information in X, the model can learn y"
   ]
  },
  {
   "cell_type": "code",
   "execution_count": null,
   "id": "42bbecc5",
   "metadata": {},
   "outputs": [],
   "source": []
  }
 ],
 "metadata": {
  "kernelspec": {
   "display_name": "Python 3 (ipykernel)",
   "language": "python",
   "name": "python3"
  },
  "language_info": {
   "codemirror_mode": {
    "name": "ipython",
    "version": 3
   },
   "file_extension": ".py",
   "mimetype": "text/x-python",
   "name": "python",
   "nbconvert_exporter": "python",
   "pygments_lexer": "ipython3",
   "version": "3.8.12"
  },
  "toc": {
   "base_numbering": 1,
   "nav_menu": {},
   "number_sections": true,
   "sideBar": true,
   "skip_h1_title": false,
   "title_cell": "Table of Contents",
   "title_sidebar": "Contents",
   "toc_cell": false,
   "toc_position": {},
   "toc_section_display": true,
   "toc_window_display": false
  },
  "varInspector": {
   "cols": {
    "lenName": 16,
    "lenType": 16,
    "lenVar": 40
   },
   "kernels_config": {
    "python": {
     "delete_cmd_postfix": "",
     "delete_cmd_prefix": "del ",
     "library": "var_list.py",
     "varRefreshCmd": "print(var_dic_list())"
    },
    "r": {
     "delete_cmd_postfix": ") ",
     "delete_cmd_prefix": "rm(",
     "library": "var_list.r",
     "varRefreshCmd": "cat(var_dic_list()) "
    }
   },
   "types_to_exclude": [
    "module",
    "function",
    "builtin_function_or_method",
    "instance",
    "_Feature"
   ],
   "window_display": false
  }
 },
 "nbformat": 4,
 "nbformat_minor": 5
}
